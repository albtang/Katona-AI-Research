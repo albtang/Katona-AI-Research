{
 "cells": [
  {
   "cell_type": "code",
   "execution_count": 1,
   "metadata": {},
   "outputs": [],
   "source": [
    "import pandas as pd\n",
    "from collections import Counter\n",
    "from nltk import word_tokenize\n",
    "import matplotlib.pyplot as plt"
   ]
  },
  {
   "cell_type": "code",
   "execution_count": 2,
   "metadata": {},
   "outputs": [],
   "source": [
    "df1 = pd.read_csv(\"raw_text/Dec15 50 1.csv\", index_col=0)\n",
    "df2 = pd.read_csv(\"raw_text/Dec15 50 2.csv\", index_col=0)\n",
    "df3 = pd.read_csv(\"raw_text/Dec15 50 3.csv\", index_col=0)\n",
    "df4 = pd.read_csv(\"raw_text/Dec15 50 4.csv\", index_col=0)\n",
    "df5 = pd.read_csv(\"raw_text/Dec15 50 5.csv\", index_col=0)\n",
    "df6 = pd.read_csv(\"raw_text/Dec15 50 6.csv\", index_col=0)\n",
    "df7 = pd.read_csv(\"raw_text/Dec15 50 7.csv\", index_col=0)\n",
    "df8 = pd.read_csv(\"raw_text/Dec15 50 8.csv\", index_col=0)\n",
    "df9 = pd.read_csv(\"raw_text/Dec15 50 9.csv\", index_col=0)\n",
    "df10 = pd.read_csv(\"raw_text/Dec15 50 10.csv\", index_col=0)\n",
    "df11 = pd.read_csv(\"raw_text/Dec15 50 11.csv\", index_col=0)\n",
    "df12 = pd.read_csv(\"raw_text/Dec15 50 12.csv\", index_col=0)\n",
    "df13 = pd.read_csv(\"raw_text/Dec15 50 13.csv\", index_col=0)\n",
    "df14 = pd.read_csv(\"raw_text/Dec15 50 14.csv\", index_col=0)\n",
    "df15 = pd.read_csv(\"raw_text/Dec15 50 15.csv\", index_col=0)"
   ]
  },
  {
   "cell_type": "code",
   "execution_count": 3,
   "metadata": {},
   "outputs": [],
   "source": [
    "df_1 = pd.read_csv(\"raw_text/Dec18 50 1.csv\", index_col=0)\n",
    "df_2 = pd.read_csv(\"raw_text/Dec18 50 2.csv\", index_col=0)\n",
    "df_3 = pd.read_csv(\"raw_text/Dec18 50 3.csv\", index_col=0)\n",
    "df_4 = pd.read_csv(\"raw_text/Dec18 50 4.csv\", index_col=0)\n",
    "df_5 = pd.read_csv(\"raw_text/Dec18 50 5.csv\", index_col=0)\n",
    "df_6 = pd.read_csv(\"raw_text/Dec18 50 6.csv\", index_col=0)\n",
    "df_7 = pd.read_csv(\"raw_text/Dec18 50 7.csv\", index_col=0)\n",
    "df_8 = pd.read_csv(\"raw_text/Dec18 50 8.csv\", index_col=0)\n",
    "df_9 = pd.read_csv(\"raw_text/Dec18 50 9.csv\", index_col=0)\n",
    "df_10 = pd.read_csv(\"raw_text/Dec18 50 10.csv\", index_col=0)\n",
    "df_11 = pd.read_csv(\"raw_text/Dec18 50 11.csv\", index_col=0)\n",
    "df_12 = pd.read_csv(\"raw_text/Dec18 50 12.csv\", index_col=0)\n",
    "df_13 = pd.read_csv(\"raw_text/Dec18 50 13.csv\", index_col=0)\n",
    "df_14 = pd.read_csv(\"raw_text/Dec18 50 14.csv\", index_col=0)\n",
    "df_15 = pd.read_csv(\"raw_text/Dec18 50 15.csv\", index_col=0)"
   ]
  },
  {
   "cell_type": "code",
   "execution_count": 4,
   "metadata": {},
   "outputs": [],
   "source": [
    "df__1 = pd.read_csv(\"raw_text/Dec2 30 1.csv\", index_col=0)\n",
    "df__2 = pd.read_csv(\"raw_text/Dec2 30 2.csv\", index_col=0)\n",
    "df__3 = pd.read_csv(\"raw_text/Dec2 30 3.csv\", index_col=0)\n",
    "df__4 = pd.read_csv(\"raw_text/Dec2 30 4.csv\", index_col=0)\n",
    "df__5 = pd.read_csv(\"raw_text/Dec2 30 5.csv\", index_col=0)\n",
    "df__6 = pd.read_csv(\"raw_text/Dec2 30 6.csv\", index_col=0)\n",
    "df__7 = pd.read_csv(\"raw_text/Dec2 30 7.csv\", index_col=0)\n",
    "df__8 = pd.read_csv(\"raw_text/Dec2 30 8.csv\", index_col=0)\n",
    "df__9 = pd.read_csv(\"raw_text/Dec2 30 9.csv\", index_col=0)\n",
    "df__10 = pd.read_csv(\"raw_text/Dec2 30 10.csv\", index_col=0)\n",
    "df__11 = pd.read_csv(\"raw_text/Dec2 30 11.csv\", index_col=0)\n",
    "df__12 = pd.read_csv(\"raw_text/Dec2 30 12.csv\", index_col=0)\n",
    "df__13 = pd.read_csv(\"raw_text/Dec2 30 13.csv\", index_col=0)\n",
    "df__14 = pd.read_csv(\"raw_text/Dec2 30 14.csv\", index_col=0)\n",
    "df__15 = pd.read_csv(\"raw_text/Dec2 30 15.csv\", index_col=0)"
   ]
  },
  {
   "cell_type": "code",
   "execution_count": 5,
   "metadata": {},
   "outputs": [],
   "source": [
    "df___1 = pd.read_csv(\"raw_text/Dec22 45 1.csv\", index_col=0)\n",
    "df___2 = pd.read_csv(\"raw_text/Dec22 45 2.csv\", index_col=0)\n",
    "df___3 = pd.read_csv(\"raw_text/Dec22 45 3.csv\", index_col=0)\n",
    "df___4 = pd.read_csv(\"raw_text/Dec22 45 4.csv\", index_col=0)\n",
    "df___5 = pd.read_csv(\"raw_text/Dec22 45 5.csv\", index_col=0)\n",
    "df___6 = pd.read_csv(\"raw_text/Dec22 45 6.csv\", index_col=0)\n",
    "df___7 = pd.read_csv(\"raw_text/Dec22 45 7.csv\", index_col=0)\n",
    "df___8 = pd.read_csv(\"raw_text/Dec22 45 8.csv\", index_col=0)\n",
    "df___9 = pd.read_csv(\"raw_text/Dec22 45 9.csv\", index_col=0)\n",
    "df___10 = pd.read_csv(\"raw_text/Dec22 45 10.csv\", index_col=0)\n",
    "df___11 = pd.read_csv(\"raw_text/Dec22 45 11.csv\", index_col=0)\n",
    "df___12 = pd.read_csv(\"raw_text/Dec22 45 12.csv\", index_col=0)\n",
    "df___13 = pd.read_csv(\"raw_text/Dec22 45 13.csv\", index_col=0)\n",
    "df___14 = pd.read_csv(\"raw_text/Dec22 45 14.csv\", index_col=0)\n",
    "df___15 = pd.read_csv(\"raw_text/Dec22 45 15.csv\", index_col=0)"
   ]
  },
  {
   "cell_type": "code",
   "execution_count": 6,
   "metadata": {},
   "outputs": [],
   "source": [
    "df____1 = pd.read_csv(\"raw_text/Dec23 60 1.csv\", index_col=0)\n",
    "df____2 = pd.read_csv(\"raw_text/Dec23 60 2.csv\", index_col=0)\n",
    "df____3 = pd.read_csv(\"raw_text/Dec23 60 3.csv\", index_col=0)\n",
    "df____4 = pd.read_csv(\"raw_text/Dec23 60 4.csv\", index_col=0)\n",
    "df____5 = pd.read_csv(\"raw_text/Dec23 60 5.csv\", index_col=0)\n",
    "df____6 = pd.read_csv(\"raw_text/Dec23 60 6.csv\", index_col=0)\n",
    "df____7 = pd.read_csv(\"raw_text/Dec23 60 7.csv\", index_col=0)\n",
    "df____8 = pd.read_csv(\"raw_text/Dec23 60 8.csv\", index_col=0)\n",
    "df____9 = pd.read_csv(\"raw_text/Dec23 60 9.csv\", index_col=0)\n",
    "df____10 = pd.read_csv(\"raw_text/Dec23 60 10.csv\", index_col=0)\n",
    "df____11 = pd.read_csv(\"raw_text/Dec23 60 11.csv\", index_col=0)\n",
    "df____12 = pd.read_csv(\"raw_text/Dec23 60 12.csv\", index_col=0)\n",
    "df____13 = pd.read_csv(\"raw_text/Dec23 60 13.csv\", index_col=0)\n",
    "df____14 = pd.read_csv(\"raw_text/Dec23 60 14.csv\", index_col=0)\n",
    "df____15 = pd.read_csv(\"raw_text/Dec23 60 15.csv\", index_col=0)"
   ]
  },
  {
   "cell_type": "code",
   "execution_count": 7,
   "metadata": {},
   "outputs": [],
   "source": [
    "df_____1 = pd.read_csv(\"raw_text/Dec3 30 1.csv\", index_col=0)\n",
    "df_____2 = pd.read_csv(\"raw_text/Dec3 30 2.csv\", index_col=0)\n",
    "df_____3 = pd.read_csv(\"raw_text/Dec3 30 3.csv\", index_col=0)\n",
    "df_____4 = pd.read_csv(\"raw_text/Dec3 30 4.csv\", index_col=0)\n",
    "df_____5 = pd.read_csv(\"raw_text/Dec3 30 5.csv\", index_col=0)\n",
    "df_____6 = pd.read_csv(\"raw_text/Dec3 30 6.csv\", index_col=0)\n",
    "df_____7 = pd.read_csv(\"raw_text/Dec3 30 7.csv\", index_col=0)\n",
    "df_____8 = pd.read_csv(\"raw_text/Dec3 30 8.csv\", index_col=0)\n",
    "df_____9 = pd.read_csv(\"raw_text/Dec3 30 9.csv\", index_col=0)\n",
    "df_____10 = pd.read_csv(\"raw_text/Dec3 30 10.csv\", index_col=0)\n",
    "df_____11 = pd.read_csv(\"raw_text/Dec3 30 11.csv\", index_col=0)\n",
    "df_____12 = pd.read_csv(\"raw_text/Dec3 30 12.csv\", index_col=0)\n",
    "df_____13 = pd.read_csv(\"raw_text/Dec3 30 13.csv\", index_col=0)\n",
    "df_____14 = pd.read_csv(\"raw_text/Dec3 30 14.csv\", index_col=0)\n",
    "df_____15 = pd.read_csv(\"raw_text/Dec3 30 15.csv\", index_col=0)"
   ]
  },
  {
   "cell_type": "code",
   "execution_count": 8,
   "metadata": {},
   "outputs": [],
   "source": [
    "df______1 = pd.read_csv(\"raw_text/Dec5 50 1.csv\", index_col=0)\n",
    "df______2 = pd.read_csv(\"raw_text/Dec5 50 2.csv\", index_col=0)\n",
    "df______3 = pd.read_csv(\"raw_text/Dec5 50 3.csv\", index_col=0)\n",
    "df______4 = pd.read_csv(\"raw_text/Dec5 50 4.csv\", index_col=0)\n",
    "df______5 = pd.read_csv(\"raw_text/Dec5 50 5.csv\", index_col=0)\n",
    "df______6 = pd.read_csv(\"raw_text/Dec5 50 6.csv\", index_col=0)\n",
    "df______7 = pd.read_csv(\"raw_text/Dec5 50 7.csv\", index_col=0)\n",
    "df______8 = pd.read_csv(\"raw_text/Dec5 50 8.csv\", index_col=0)\n",
    "df______9 = pd.read_csv(\"raw_text/Dec5 50 9.csv\", index_col=0)\n",
    "df______10 = pd.read_csv(\"raw_text/Dec5 50 10.csv\", index_col=0)\n",
    "df______11 = pd.read_csv(\"raw_text/Dec5 50 11.csv\", index_col=0)\n",
    "df______12 = pd.read_csv(\"raw_text/Dec5 50 12.csv\", index_col=0)\n",
    "df______13 = pd.read_csv(\"raw_text/Dec5 50 13.csv\", index_col=0)\n",
    "df______14 = pd.read_csv(\"raw_text/Dec5 50 14.csv\", index_col=0)\n",
    "df______15 = pd.read_csv(\"raw_text/Dec5 50 15.csv\", index_col=0)"
   ]
  },
  {
   "cell_type": "code",
   "execution_count": 9,
   "metadata": {},
   "outputs": [],
   "source": [
    "df_______1 = pd.read_csv(\"raw_text/Jan5 60 1.csv\", index_col=0)\n",
    "df_______2 = pd.read_csv(\"raw_text/Jan5 60 2.csv\", index_col=0)\n",
    "df_______3 = pd.read_csv(\"raw_text/Jan5 60 3.csv\", index_col=0)\n",
    "df_______4 = pd.read_csv(\"raw_text/Jan5 60 4.csv\", index_col=0)\n",
    "df_______5 = pd.read_csv(\"raw_text/Jan5 60 5.csv\", index_col=0)\n",
    "df_______6 = pd.read_csv(\"raw_text/Jan5 60 6.csv\", index_col=0)\n",
    "df_______7 = pd.read_csv(\"raw_text/Jan5 60 7.csv\", index_col=0)\n",
    "df_______8 = pd.read_csv(\"raw_text/Jan5 60 8.csv\", index_col=0)\n",
    "df_______9 = pd.read_csv(\"raw_text/Jan5 60 9.csv\", index_col=0)\n",
    "df_______10 = pd.read_csv(\"raw_text/Jan5 60 10.csv\", index_col=0)\n",
    "df_______11 = pd.read_csv(\"raw_text/Jan5 60 11.csv\", index_col=0)\n",
    "df_______12 = pd.read_csv(\"raw_text/Jan5 60 12.csv\", index_col=0)\n",
    "df_______13 = pd.read_csv(\"raw_text/Jan5 60 13.csv\", index_col=0)\n",
    "df_______14 = pd.read_csv(\"raw_text/Jan5 60 14.csv\", index_col=0)\n",
    "df_______15 = pd.read_csv(\"raw_text/Jan5 60 15.csv\", index_col=0)"
   ]
  },
  {
   "cell_type": "code",
   "execution_count": 10,
   "metadata": {},
   "outputs": [],
   "source": [
    "df________1 = pd.read_csv(\"raw_text/Dec30 40 1.csv\", index_col=0)\n",
    "df________2 = pd.read_csv(\"raw_text/Dec30 40 2.csv\", index_col=0)\n",
    "df________3 = pd.read_csv(\"raw_text/Dec30 40 3.csv\", index_col=0)\n",
    "df________4 = pd.read_csv(\"raw_text/Dec30 40 4.csv\", index_col=0)\n",
    "df________5 = pd.read_csv(\"raw_text/Dec30 40 5.csv\", index_col=0)\n",
    "df________6 = pd.read_csv(\"raw_text/Dec30 40 6.csv\", index_col=0)\n",
    "df________7 = pd.read_csv(\"raw_text/Dec30 40 7.csv\", index_col=0)\n",
    "df________8 = pd.read_csv(\"raw_text/Dec30 40 8.csv\", index_col=0)\n",
    "df________9 = pd.read_csv(\"raw_text/Dec30 40 9.csv\", index_col=0)\n",
    "df________10 = pd.read_csv(\"raw_text/Dec30 40 10.csv\", index_col=0)\n",
    "df________11 = pd.read_csv(\"raw_text/Dec30 40 11.csv\", index_col=0)\n",
    "df________12 = pd.read_csv(\"raw_text/Dec30 40 12.csv\", index_col=0)\n",
    "df________13 = pd.read_csv(\"raw_text/Dec30 40 13.csv\", index_col=0)\n",
    "df________14 = pd.read_csv(\"raw_text/Dec30 40 14.csv\", index_col=0)\n",
    "df________15 = pd.read_csv(\"raw_text/Dec30 40 15.csv\", index_col=0)"
   ]
  },
  {
   "cell_type": "markdown",
   "metadata": {},
   "source": [
    "Now that the data has loaded in, we can run the counter using the Counter class from collection. https://docs.python.org/3/library/collections.html#collections.Counter"
   ]
  },
  {
   "cell_type": "code",
   "execution_count": 11,
   "metadata": {
    "scrolled": true
   },
   "outputs": [],
   "source": [
    "c = Counter()\n",
    "def add_to_counter(df):\n",
    "    temp = Counter()\n",
    "    for col in df:\n",
    "        series = df[col].str.split(\"<|endoftext|>\", expand=True)[0].apply(word_tokenize)\n",
    "        for row in series:\n",
    "            temp += Counter(row)\n",
    "            \n",
    "    return temp"
   ]
  },
  {
   "cell_type": "code",
   "execution_count": 12,
   "metadata": {},
   "outputs": [],
   "source": [
    "c += add_to_counter(df1)\n",
    "c += add_to_counter(df2)\n",
    "c += add_to_counter(df3)\n",
    "c += add_to_counter(df4)\n",
    "c += add_to_counter(df5)\n",
    "c += add_to_counter(df6)\n",
    "c += add_to_counter(df7)\n",
    "c += add_to_counter(df8)\n",
    "c += add_to_counter(df9)\n",
    "c += add_to_counter(df10)\n",
    "c += add_to_counter(df11)\n",
    "c += add_to_counter(df12)\n",
    "c += add_to_counter(df13)\n",
    "c += add_to_counter(df14)\n",
    "c += add_to_counter(df15)"
   ]
  },
  {
   "cell_type": "code",
   "execution_count": 13,
   "metadata": {},
   "outputs": [],
   "source": [
    "c += add_to_counter(df_1)\n",
    "c += add_to_counter(df_2)\n",
    "c += add_to_counter(df_3)\n",
    "c += add_to_counter(df_4)\n",
    "c += add_to_counter(df_5)\n",
    "c += add_to_counter(df_6)\n",
    "c += add_to_counter(df_7)\n",
    "c += add_to_counter(df_8)\n",
    "c += add_to_counter(df_9)\n",
    "c += add_to_counter(df_10)\n",
    "c += add_to_counter(df_11)\n",
    "c += add_to_counter(df_12)\n",
    "c += add_to_counter(df_13)\n",
    "c += add_to_counter(df_14)\n",
    "c += add_to_counter(df_15)"
   ]
  },
  {
   "cell_type": "code",
   "execution_count": 14,
   "metadata": {},
   "outputs": [],
   "source": [
    "c += add_to_counter(df__1)\n",
    "c += add_to_counter(df__2)\n",
    "c += add_to_counter(df__3)\n",
    "c += add_to_counter(df__4)\n",
    "c += add_to_counter(df__5)\n",
    "c += add_to_counter(df__6)\n",
    "c += add_to_counter(df__7)\n",
    "c += add_to_counter(df__8)\n",
    "c += add_to_counter(df__9)\n",
    "c += add_to_counter(df__10)\n",
    "c += add_to_counter(df__11)\n",
    "c += add_to_counter(df__12)\n",
    "c += add_to_counter(df__13)\n",
    "c += add_to_counter(df__14)\n",
    "c += add_to_counter(df__15)"
   ]
  },
  {
   "cell_type": "code",
   "execution_count": 15,
   "metadata": {},
   "outputs": [],
   "source": [
    "c += add_to_counter(df___1)\n",
    "c += add_to_counter(df___2)\n",
    "c += add_to_counter(df___3)\n",
    "c += add_to_counter(df___4)\n",
    "c += add_to_counter(df___5)\n",
    "c += add_to_counter(df___6)\n",
    "c += add_to_counter(df___7)\n",
    "c += add_to_counter(df___8)\n",
    "c += add_to_counter(df___9)\n",
    "c += add_to_counter(df___10)\n",
    "c += add_to_counter(df___11)\n",
    "c += add_to_counter(df___12)\n",
    "c += add_to_counter(df___13)\n",
    "c += add_to_counter(df___14)\n",
    "c += add_to_counter(df___15)"
   ]
  },
  {
   "cell_type": "code",
   "execution_count": 16,
   "metadata": {},
   "outputs": [],
   "source": [
    "c += add_to_counter(df____1)\n",
    "c += add_to_counter(df____2)\n",
    "c += add_to_counter(df____3)\n",
    "c += add_to_counter(df____4)\n",
    "c += add_to_counter(df____5)\n",
    "c += add_to_counter(df____6)\n",
    "c += add_to_counter(df____7)\n",
    "c += add_to_counter(df____8)\n",
    "c += add_to_counter(df____9)\n",
    "c += add_to_counter(df____10)\n",
    "c += add_to_counter(df____11)\n",
    "c += add_to_counter(df____12)\n",
    "c += add_to_counter(df____13)\n",
    "c += add_to_counter(df____14)\n",
    "c += add_to_counter(df____15)"
   ]
  },
  {
   "cell_type": "code",
   "execution_count": 17,
   "metadata": {},
   "outputs": [],
   "source": [
    "c += add_to_counter(df_____1)\n",
    "c += add_to_counter(df_____2)\n",
    "c += add_to_counter(df_____3)\n",
    "c += add_to_counter(df_____4)\n",
    "c += add_to_counter(df_____5)\n",
    "c += add_to_counter(df_____6)\n",
    "c += add_to_counter(df_____7)\n",
    "c += add_to_counter(df_____8)\n",
    "c += add_to_counter(df_____9)\n",
    "c += add_to_counter(df_____10)\n",
    "c += add_to_counter(df_____11)\n",
    "c += add_to_counter(df_____12)\n",
    "c += add_to_counter(df_____13)\n",
    "c += add_to_counter(df_____14)\n",
    "c += add_to_counter(df_____15)"
   ]
  },
  {
   "cell_type": "code",
   "execution_count": 18,
   "metadata": {},
   "outputs": [],
   "source": [
    "c += add_to_counter(df______1)\n",
    "c += add_to_counter(df______2)\n",
    "c += add_to_counter(df______3)\n",
    "c += add_to_counter(df______4)\n",
    "c += add_to_counter(df______5)\n",
    "c += add_to_counter(df______6)\n",
    "c += add_to_counter(df______7)\n",
    "c += add_to_counter(df______8)\n",
    "c += add_to_counter(df______9)\n",
    "c += add_to_counter(df______10)\n",
    "c += add_to_counter(df______11)\n",
    "c += add_to_counter(df______12)\n",
    "c += add_to_counter(df______13)\n",
    "c += add_to_counter(df______14)\n",
    "c += add_to_counter(df______15)"
   ]
  },
  {
   "cell_type": "code",
   "execution_count": 19,
   "metadata": {},
   "outputs": [],
   "source": [
    "c += add_to_counter(df_______1)\n",
    "c += add_to_counter(df_______2)\n",
    "c += add_to_counter(df_______3)\n",
    "c += add_to_counter(df_______4)\n",
    "c += add_to_counter(df_______5)\n",
    "c += add_to_counter(df_______6)\n",
    "c += add_to_counter(df_______7)\n",
    "c += add_to_counter(df_______8)\n",
    "c += add_to_counter(df_______9)\n",
    "c += add_to_counter(df_______10)\n",
    "c += add_to_counter(df_______11)\n",
    "c += add_to_counter(df_______12)\n",
    "c += add_to_counter(df_______13)\n",
    "c += add_to_counter(df_______14)\n",
    "c += add_to_counter(df_______15)"
   ]
  },
  {
   "cell_type": "code",
   "execution_count": 20,
   "metadata": {},
   "outputs": [],
   "source": [
    "c += add_to_counter(df________1)\n",
    "c += add_to_counter(df________2)\n",
    "c += add_to_counter(df________3)\n",
    "c += add_to_counter(df________4)\n",
    "c += add_to_counter(df________5)\n",
    "c += add_to_counter(df________6)\n",
    "c += add_to_counter(df________7)\n",
    "c += add_to_counter(df________8)\n",
    "c += add_to_counter(df________9)\n",
    "c += add_to_counter(df________10)\n",
    "c += add_to_counter(df________11)\n",
    "c += add_to_counter(df________12)\n",
    "c += add_to_counter(df________13)\n",
    "c += add_to_counter(df________14)\n",
    "c += add_to_counter(df________15)"
   ]
  },
  {
   "cell_type": "code",
   "execution_count": 21,
   "metadata": {},
   "outputs": [
    {
     "data": {
      "text/plain": [
       "[('.', 1639122),\n",
       " ('a', 1580338),\n",
       " ('the', 1552289),\n",
       " (',', 1144784),\n",
       " ('is', 1130361),\n",
       " ('The', 849229),\n",
       " ('and', 633988),\n",
       " ('to', 609520),\n",
       " ('of', 594926),\n",
       " (\"'s\", 585236),\n",
       " ('in', 570406),\n",
       " ('that', 428473),\n",
       " ('it', 419667),\n",
       " ('car', 402203),\n",
       " ('has', 374432),\n",
       " ('with', 313263),\n",
       " ('It', 283793),\n",
       " ('also', 237572),\n",
       " ('but', 231880),\n",
       " ('be', 226473),\n",
       " ('engine', 223908),\n",
       " ('more', 195888),\n",
       " ('for', 179209),\n",
       " ('company', 160588),\n",
       " ('not', 152657),\n",
       " ('very', 150232),\n",
       " ('than', 139554),\n",
       " ('will', 127406),\n",
       " ('available', 125594),\n",
       " ('been', 124341),\n",
       " ('on', 124260),\n",
       " ('as', 119205),\n",
       " ('are', 115438),\n",
       " ('cars', 111658),\n",
       " ('by', 109920),\n",
       " ('new', 107208),\n",
       " ('which', 106897),\n",
       " ('its', 98451),\n",
       " ('BMW', 96875),\n",
       " ('$', 91066),\n",
       " ('Honda', 88159),\n",
       " ('was', 88107),\n",
       " ('have', 87630),\n",
       " ('transmission', 83676),\n",
       " ('lot', 78605),\n",
       " ('Ferrari', 77439),\n",
       " ('Dodge', 72769),\n",
       " ('electric', 71955),\n",
       " ('hybrid', 71888),\n",
       " ('can', 70526),\n",
       " ('most', 70453),\n",
       " ('at', 70377),\n",
       " ('Ford', 70077),\n",
       " ('drive', 68551),\n",
       " ('bit', 67098),\n",
       " ('Jeep', 67080),\n",
       " ('``', 65978),\n",
       " ('Tesla', 63308),\n",
       " ('Toyota', 63287),\n",
       " ('about', 61755),\n",
       " ('manual', 61492),\n",
       " ('world', 61348),\n",
       " (\"''\", 60615),\n",
       " ('powerful', 59124),\n",
       " ('He', 58867),\n",
       " ('vehicle', 58685),\n",
       " ('first', 58632),\n",
       " (':', 58252),\n",
       " ('you', 57705),\n",
       " ('good', 56213),\n",
       " ('I', 56175),\n",
       " ('rear', 56138),\n",
       " ('Civic', 55172),\n",
       " ('model', 52214),\n",
       " ('Lamborghini', 51410),\n",
       " ('brand', 49841),\n",
       " (\"'re\", 49426),\n",
       " ('he', 48886),\n",
       " ('only', 48771),\n",
       " ('different', 48262),\n",
       " ('expensive', 47426),\n",
       " ('from', 46998),\n",
       " ('battery', 45298),\n",
       " ('range', 44526),\n",
       " ('Prius', 44311),\n",
       " ('Audi', 43319),\n",
       " ('torque', 42911),\n",
       " ('said', 42455),\n",
       " ('we', 42270),\n",
       " ('Wrangler', 42180),\n",
       " ('an', 41972),\n",
       " ('Porsche', 41442),\n",
       " ('vehicles', 41235),\n",
       " ('Nissan', 40885),\n",
       " ('Mercedes-Benz', 40648),\n",
       " ('S', 40639),\n",
       " ('designed', 39914),\n",
       " ('one', 39480),\n",
       " ('who', 39386),\n",
       " ('same', 39253)]"
      ]
     },
     "execution_count": 21,
     "metadata": {},
     "output_type": "execute_result"
    }
   ],
   "source": [
    "c.most_common(100)"
   ]
  },
  {
   "cell_type": "code",
   "execution_count": 22,
   "metadata": {},
   "outputs": [],
   "source": [
    "word, cnt = zip(*c.most_common(100))"
   ]
  },
  {
   "cell_type": "code",
   "execution_count": 30,
   "metadata": {},
   "outputs": [
    {
     "data": {
      "text/plain": [
       "Text(0.5, 1.0, 'Word vs. Count')"
      ]
     },
     "execution_count": 30,
     "metadata": {},
     "output_type": "execute_result"
    },
    {
     "data": {
      "image/png": "[encoded data removed]",
      "text/plain": [
       "<Figure size 1440x720 with 1 Axes>"
      ]
     },
     "metadata": {
      "needs_background": "light"
     },
     "output_type": "display_data"
    }
   ],
   "source": [
    "plt.figure(figsize=(20,10))\n",
    "plt.bar(word, cnt)\n",
    "plt.xlabel(\"Word\")\n",
    "plt.ylabel(\"Count\")\n",
    "plt.title(\"Word vs. Count\")"
   ]
  },
  {
   "cell_type": "code",
   "execution_count": null,
   "metadata": {},
   "outputs": [],
   "source": []
  }
 ],
 "metadata": {
  "kernelspec": {
   "display_name": "Python 3",
   "language": "python",
   "name": "python3"
  },
  "language_info": {
   "codemirror_mode": {
    "name": "ipython",
    "version": 3
   },
   "file_extension": ".py",
   "mimetype": "text/x-python",
   "name": "python",
   "nbconvert_exporter": "python",
   "pygments_lexer": "ipython3",
   "version": "3.8.8"
  }
 },
 "nbformat": 4,
 "nbformat_minor": 4
}
