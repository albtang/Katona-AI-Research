{
 "cells": [
  {
   "cell_type": "code",
   "execution_count": 10,
   "metadata": {},
   "outputs": [],
   "source": [
    "import pandas as pd"
   ]
  },
  {
   "cell_type": "code",
   "execution_count": 11,
   "metadata": {},
   "outputs": [],
   "source": [
    "data = pd.read_csv(\"Open_Ended_Cars.csv\",header = 1)"
   ]
  },
  {
   "cell_type": "code",
   "execution_count": 12,
   "metadata": {},
   "outputs": [
    {
     "output_type": "execute_result",
     "data": {
      "text/plain": [
       "525"
      ]
     },
     "metadata": {},
     "execution_count": 12
    }
   ],
   "source": [
    "len(data)"
   ]
  },
  {
   "cell_type": "code",
   "execution_count": 13,
   "metadata": {
    "scrolled": true
   },
   "outputs": [
    {
     "output_type": "execute_result",
     "data": {
      "text/plain": [
       "29.0"
      ]
     },
     "metadata": {},
     "execution_count": 13
    }
   ],
   "source": [
    "data[\"How old are you? \"].median()"
   ]
  },
  {
   "cell_type": "code",
   "execution_count": 14,
   "metadata": {},
   "outputs": [
    {
     "output_type": "execute_result",
     "data": {
      "text/plain": [
       "6.0"
      ]
     },
     "metadata": {},
     "execution_count": 14
    }
   ],
   "source": [
    "data[\"What was your household income in the last tax year, before tax was deducted? \"].median()"
   ]
  },
  {
   "cell_type": "code",
   "execution_count": 15,
   "metadata": {},
   "outputs": [],
   "source": [
    "def median_split(data, i):\n",
    "    split = len(data)//2\n",
    "    ordered = data.sort_values(by = i)\n",
    "    return ordered.iloc[:split], ordered.iloc[split+1:]"
   ]
  },
  {
   "cell_type": "code",
   "execution_count": 16,
   "metadata": {},
   "outputs": [],
   "source": [
    "lower_age, upper_age = median_split(data, \"How old are you? \")\n",
    "lower_income, upper_income = median_split(data, \"What was your household income in the last tax year, before tax was deducted? \")"
   ]
  },
  {
   "cell_type": "code",
   "execution_count": 17,
   "metadata": {},
   "outputs": [],
   "source": [
    "car_aliases = [['Jeep', 'Fiat', 'Chrysler'],\n",
    "        ['Subaru', 'Bugeye', 'Scooby'],\n",
    "        ['Dodge', 'Polara'],\n",
    "#        ['GMC'],\n",
    "        ['Tesla'],\n",
    "#        ['Buick'],\n",
    "        ['Toyota', 'Yota', 'Camry'],\n",
    "        ['Honda', 'Accord'],\n",
    "        ['Nissan', 'Infiniti'],\n",
    "        ['Chevrolet', 'Chevy'],\n",
    "        ['Hyundai', 'Tiburon', 'HYU', 'Kia'],\n",
    "#        ['Ram'],\n",
    "        ['Mazda', 'Matsuda'],\n",
    "        ['Renault', 'Dacia'],\n",
    "        ['Lamborghini', 'Lambo', 'Aventadora', 'Lamborgini'],\n",
    "        ['Mercedes-Benz', 'Merc', 'Benz', 'Mercedes'],\n",
    "        ['BMW', 'Beemer', 'Bimmer', 'Beamer'],\n",
    "        ['Ford', 'Thunderbird', 'Mustang'],\n",
    "        ['Porsche', 'Porche', 'Porce'],\n",
    "        ['Audi', '4 Rings'],\n",
    "        ['Volkswagen', 'VW', 'Volkswagon'],\n",
    "        ['Ferrari', 'Prancing Horse', 'Scuderia'],\n",
    "#        ['MG', 'M.G.', 'Morris Garages', 'M.G. Car Company'],\n",
    "        ['Lexus', 'Lex', 'GX', 'ES 250'],\n",
    "#        ['Infiniti'],\n",
    "        ['Volvo']]"
   ]
  },
  {
   "cell_type": "code",
   "execution_count": 18,
   "metadata": {},
   "outputs": [],
   "source": [
    "car_columns = [\"Ford is similar to... \",\n",
    "\"Hyundai is similar to... \",\n",
    "\"BMW is similar to... \",\n",
    "\"Subaru is similar to... \",\n",
    "\"Jeep is similar to... \",\n",
    "\"Toyota is similar to... \",\n",
    "\"Chevrolet is similar to... \",\n",
    "\"Honda is similar to... \",\n",
    "\"audi\",\n",
    "\"Mercedes-Benz is similar to... \",\n",
    "\"Tesla is similar to... \",\n",
    "\"Dodge is similar to... \",\n",
    "\"Lexus is similar to... \",\n",
    "\"Porsche is similar to... \",\n",
    "\"Volkswagen is similar to... \",\n",
    "\"Ferrari is similar to... \",\n",
    "\"Nissan is similar to... \",\n",
    "\"Mazda is similar to... \",\n",
    "\"Lamborghini is similar to... \",\n",
    "\"Renault is similar to... \",\n",
    "\"Volvo is similar to... \"]"
   ]
  },
  {
   "cell_type": "code",
   "execution_count": 19,
   "metadata": {},
   "outputs": [],
   "source": [
    "def column_count(data, aliases, prompt):\n",
    "    alias_pattern = \"\"\n",
    "    for i in aliases:\n",
    "        alias_pattern += i\n",
    "        alias_pattern += \"|\"\n",
    "    alias_pattern = alias_pattern[:-1]   \n",
    "    series = data[prompt].str.contains(alias_pattern)\n",
    "    if True in series.unique():\n",
    "        return series.value_counts()[True]\n",
    "    return 0"
   ]
  },
  {
   "cell_type": "code",
   "execution_count": 20,
   "metadata": {},
   "outputs": [],
   "source": [
    "def make_freq_table(data):\n",
    "    counts = [[] for i in range(len(car_columns))]\n",
    "    brands = []\n",
    "    for aliases in car_aliases:\n",
    "        brands.append(aliases[0])\n",
    "        for i,prompt in zip(list(range(len(car_columns))), car_columns):\n",
    "            count = column_count(data, aliases,prompt)\n",
    "            counts[i].append(count)\n",
    "    d = dict()\n",
    "    d[\"brand\"] = brands\n",
    "    for i,j in zip(car_columns, counts):\n",
    "        d[i] = j\n",
    "    df = pd.DataFrame(data=d)\n",
    "    return df"
   ]
  },
  {
   "cell_type": "code",
   "execution_count": 21,
   "metadata": {},
   "outputs": [],
   "source": [
    "lower_age_counts = make_freq_table(lower_age)\n",
    "upper_age_counts = make_freq_table(upper_age)\n",
    "lower_income_counts = make_freq_table(lower_income)\n",
    "upper_income_counts = make_freq_table(upper_income)"
   ]
  },
  {
   "cell_type": "code",
   "execution_count": 30,
   "metadata": {},
   "outputs": [
    {
     "output_type": "execute_result",
     "data": {
      "text/plain": [
       "brand\n",
       "Jeep                     Dodge is similar to... \n",
       "Subaru                   Volvo is similar to... \n",
       "Dodge                     Jeep is similar to... \n",
       "Tesla                                       audi\n",
       "Toyota                   Honda is similar to... \n",
       "Honda                   Toyota is similar to... \n",
       "Nissan                   Mazda is similar to... \n",
       "Chevrolet                 Ford is similar to... \n",
       "Hyundai                Hyundai is similar to... \n",
       "Mazda                    Honda is similar to... \n",
       "Renault                Renault is similar to... \n",
       "Lamborghini            Ferrari is similar to... \n",
       "Mercedes-Benz              BMW is similar to... \n",
       "BMW              Mercedes-Benz is similar to... \n",
       "Ford                 Chevrolet is similar to... \n",
       "Porsche            Lamborghini is similar to... \n",
       "Audi                       BMW is similar to... \n",
       "Volkswagen               Volvo is similar to... \n",
       "Ferrari            Lamborghini is similar to... \n",
       "Lexus            Mercedes-Benz is similar to... \n",
       "Volvo               Volkswagen is similar to... \n",
       "dtype: object"
      ]
     },
     "metadata": {},
     "execution_count": 30
    }
   ],
   "source": [
    "def most_similar(df):\n",
    "    return df.set_index(\"brand\").idxmax(axis =1)\n",
    "most_similar(lower_income_counts)"
   ]
  },
  {
   "cell_type": "code",
   "execution_count": 57,
   "metadata": {},
   "outputs": [],
   "source": [
    "#brand# #low inc# #high# #same?#\n",
    "def similarity_table(df_low, df_high):\n",
    "    low = most_similar(df_low)\n",
    "    high = most_similar(df_high)\n",
    "    pd_dict = {\"Low\":low, \"High\":high}\n",
    "    df =  pd.DataFrame(pd_dict)\n",
    "    df[\"Low\"] = df[\"Low\"].str.split().str[0]\n",
    "    df[\"High\"] = df[\"High\"].str.split().str[0]\n",
    "    df[\"equal\"] = df[\"Low\"] == df[\"High\"]\n",
    "    return df"
   ]
  },
  {
   "cell_type": "code",
   "execution_count": 58,
   "metadata": {},
   "outputs": [],
   "source": [
    "income_similarity = similarity_table(lower_income_counts, upper_income_counts)\n",
    "age_similarity = similarity_table(lower_age_counts, upper_age_counts)"
   ]
  },
  {
   "cell_type": "code",
   "execution_count": 59,
   "metadata": {},
   "outputs": [],
   "source": [
    "def diff_only(sim_table):\n",
    "    df = sim_table[~sim_table[\"equal\"]]\n",
    "    return df.drop(columns=[\"equal\"])"
   ]
  },
  {
   "cell_type": "code",
   "execution_count": 60,
   "metadata": {},
   "outputs": [],
   "source": [
    "income_diff = diff_only(income_similarity)\n",
    "age_diff = diff_only(age_similarity)"
   ]
  },
  {
   "cell_type": "code",
   "execution_count": 61,
   "metadata": {},
   "outputs": [
    {
     "output_type": "execute_result",
     "data": {
      "text/plain": [
       "                   Low        High\n",
       "brand                             \n",
       "Jeep             Dodge      Subaru\n",
       "Subaru           Volvo       Mazda\n",
       "Dodge             Jeep        Ford\n",
       "Tesla             audi       Tesla\n",
       "Mazda            Honda      Subaru\n",
       "Renault        Renault  Volkswagen\n",
       "Porsche    Lamborghini     Ferrari\n",
       "Lexus    Mercedes-Benz        audi"
      ],
      "text/html": "<div>\n<style scoped>\n    .dataframe tbody tr th:only-of-type {\n        vertical-align: middle;\n    }\n\n    .dataframe tbody tr th {\n        vertical-align: top;\n    }\n\n    .dataframe thead th {\n        text-align: right;\n    }\n</style>\n<table border=\"1\" class=\"dataframe\">\n  <thead>\n    <tr style=\"text-align: right;\">\n      <th></th>\n      <th>Low</th>\n      <th>High</th>\n    </tr>\n    <tr>\n      <th>brand</th>\n      <th></th>\n      <th></th>\n    </tr>\n  </thead>\n  <tbody>\n    <tr>\n      <td>Jeep</td>\n      <td>Dodge</td>\n      <td>Subaru</td>\n    </tr>\n    <tr>\n      <td>Subaru</td>\n      <td>Volvo</td>\n      <td>Mazda</td>\n    </tr>\n    <tr>\n      <td>Dodge</td>\n      <td>Jeep</td>\n      <td>Ford</td>\n    </tr>\n    <tr>\n      <td>Tesla</td>\n      <td>audi</td>\n      <td>Tesla</td>\n    </tr>\n    <tr>\n      <td>Mazda</td>\n      <td>Honda</td>\n      <td>Subaru</td>\n    </tr>\n    <tr>\n      <td>Renault</td>\n      <td>Renault</td>\n      <td>Volkswagen</td>\n    </tr>\n    <tr>\n      <td>Porsche</td>\n      <td>Lamborghini</td>\n      <td>Ferrari</td>\n    </tr>\n    <tr>\n      <td>Lexus</td>\n      <td>Mercedes-Benz</td>\n      <td>audi</td>\n    </tr>\n  </tbody>\n</table>\n</div>"
     },
     "metadata": {},
     "execution_count": 61
    }
   ],
   "source": [
    "income_diff"
   ]
  },
  {
   "cell_type": "code",
   "execution_count": 62,
   "metadata": {},
   "outputs": [
    {
     "output_type": "execute_result",
     "data": {
      "text/plain": [
       "                 Low           High\n",
       "brand                              \n",
       "Jeep           Dodge         Subaru\n",
       "Subaru         Mazda     Volkswagen\n",
       "Dodge           Jeep           Ford\n",
       "Tesla          Lexus          Tesla\n",
       "Hyundai       Nissan        Hyundai\n",
       "Mazda         Subaru         Nissan\n",
       "Renault      Renault     Volkswagen\n",
       "Porsche  Lamborghini        Ferrari\n",
       "Lexus           audi  Mercedes-Benz\n",
       "Volvo     Volkswagen           audi"
      ],
      "text/html": "<div>\n<style scoped>\n    .dataframe tbody tr th:only-of-type {\n        vertical-align: middle;\n    }\n\n    .dataframe tbody tr th {\n        vertical-align: top;\n    }\n\n    .dataframe thead th {\n        text-align: right;\n    }\n</style>\n<table border=\"1\" class=\"dataframe\">\n  <thead>\n    <tr style=\"text-align: right;\">\n      <th></th>\n      <th>Low</th>\n      <th>High</th>\n    </tr>\n    <tr>\n      <th>brand</th>\n      <th></th>\n      <th></th>\n    </tr>\n  </thead>\n  <tbody>\n    <tr>\n      <td>Jeep</td>\n      <td>Dodge</td>\n      <td>Subaru</td>\n    </tr>\n    <tr>\n      <td>Subaru</td>\n      <td>Mazda</td>\n      <td>Volkswagen</td>\n    </tr>\n    <tr>\n      <td>Dodge</td>\n      <td>Jeep</td>\n      <td>Ford</td>\n    </tr>\n    <tr>\n      <td>Tesla</td>\n      <td>Lexus</td>\n      <td>Tesla</td>\n    </tr>\n    <tr>\n      <td>Hyundai</td>\n      <td>Nissan</td>\n      <td>Hyundai</td>\n    </tr>\n    <tr>\n      <td>Mazda</td>\n      <td>Subaru</td>\n      <td>Nissan</td>\n    </tr>\n    <tr>\n      <td>Renault</td>\n      <td>Renault</td>\n      <td>Volkswagen</td>\n    </tr>\n    <tr>\n      <td>Porsche</td>\n      <td>Lamborghini</td>\n      <td>Ferrari</td>\n    </tr>\n    <tr>\n      <td>Lexus</td>\n      <td>audi</td>\n      <td>Mercedes-Benz</td>\n    </tr>\n    <tr>\n      <td>Volvo</td>\n      <td>Volkswagen</td>\n      <td>audi</td>\n    </tr>\n  </tbody>\n</table>\n</div>"
     },
     "metadata": {},
     "execution_count": 62
    }
   ],
   "source": [
    "age_diff"
   ]
  },
  {
   "cell_type": "code",
   "execution_count": null,
   "metadata": {},
   "outputs": [],
   "source": []
  }
 ],
 "metadata": {
  "kernelspec": {
   "name": "python374jvsc74a57bd0d287fde117a95bd26dfdff9c7a71307342e0137576aacf3f46b9d0a3a3d68f71",
   "display_name": "Python 3.7.4 64-bit ('base': conda)"
  },
  "language_info": {
   "codemirror_mode": {
    "name": "ipython",
    "version": 3
   },
   "file_extension": ".py",
   "mimetype": "text/x-python",
   "name": "python",
   "nbconvert_exporter": "python",
   "pygments_lexer": "ipython3",
   "version": "3.7.4-final"
  }
 },
 "nbformat": 4,
 "nbformat_minor": 2
}