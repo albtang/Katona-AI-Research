{
 "cells": [
  {
   "cell_type": "code",
   "execution_count": 132,
   "metadata": {},
   "outputs": [],
   "source": [
    "import pandas as pd"
   ]
  },
  {
   "cell_type": "code",
   "execution_count": 133,
   "metadata": {},
   "outputs": [],
   "source": [
    "data = pd.read_csv(\"Open_Ended_Cars.csv\",header = 1)"
   ]
  },
  {
   "cell_type": "code",
   "execution_count": 134,
   "metadata": {},
   "outputs": [
    {
     "data": {
      "text/plain": [
       "525"
      ]
     },
     "execution_count": 134,
     "metadata": {},
     "output_type": "execute_result"
    }
   ],
   "source": [
    "len(data)"
   ]
  },
  {
   "cell_type": "code",
   "execution_count": 135,
   "metadata": {
    "scrolled": true
   },
   "outputs": [
    {
     "data": {
      "text/plain": [
       "29.0"
      ]
     },
     "execution_count": 135,
     "metadata": {},
     "output_type": "execute_result"
    }
   ],
   "source": [
    "data[\"How old are you? \"].median()"
   ]
  },
  {
   "cell_type": "code",
   "execution_count": 136,
   "metadata": {},
   "outputs": [
    {
     "data": {
      "text/plain": [
       "6.0"
      ]
     },
     "execution_count": 136,
     "metadata": {},
     "output_type": "execute_result"
    }
   ],
   "source": [
    "data[\"What was your household income in the last tax year, before tax was deducted? \"].median()"
   ]
  },
  {
   "cell_type": "code",
   "execution_count": 137,
   "metadata": {},
   "outputs": [],
   "source": [
    "def median_split(data, i):\n",
    "    split = len(data)//2\n",
    "    ordered = data.sort_values(by = i)\n",
    "    return ordered.iloc[:split], ordered.iloc[split+1:]"
   ]
  },
  {
   "cell_type": "code",
   "execution_count": 138,
   "metadata": {},
   "outputs": [],
   "source": [
    "lower_age, upper_age = median_split(data, \"How old are you? \")\n",
    "lower_income, upper_income = median_split(data, \"What was your household income in the last tax year, before tax was deducted? \")"
   ]
  },
  {
   "cell_type": "code",
   "execution_count": 139,
   "metadata": {},
   "outputs": [],
   "source": [
    "car_aliases = [['Jeep', 'Fiat', 'Chrysler'],\n",
    "        ['Subaru', 'Bugeye', 'Scooby'],\n",
    "        ['Dodge', 'Polara'],\n",
    "#        ['GMC'],\n",
    "        ['Tesla'],\n",
    "#        ['Buick'],\n",
    "        ['Toyota', 'Yota', 'Camry'],\n",
    "        ['Honda', 'Accord'],\n",
    "        ['Nissan', 'Infiniti'],\n",
    "        ['Chevrolet', 'Chevy'],\n",
    "        ['Hyundai', 'Tiburon', 'HYU', 'Kia'],\n",
    "#        ['Ram'],\n",
    "        ['Mazda', 'Matsuda'],\n",
    "        ['Renault', 'Dacia'],\n",
    "        ['Lamborghini', 'Lambo', 'Aventadora', 'Lamborgini'],\n",
    "        ['Mercedes-Benz', 'Merc', 'Benz', 'Mercedes'],\n",
    "        ['BMW', 'Beemer', 'Bimmer', 'Beamer'],\n",
    "        ['Ford', 'Thunderbird', 'Mustang'],\n",
    "        ['Porsche', 'Porche', 'Porce'],\n",
    "        ['Audi', '4 Rings'],\n",
    "        ['Volkswagen', 'VW', 'Volkswagon'],\n",
    "        ['Ferrari', 'Prancing Horse', 'Scuderia'],\n",
    "#        ['MG', 'M.G.', 'Morris Garages', 'M.G. Car Company'],\n",
    "        ['Lexus', 'Lex', 'GX', 'ES 250'],\n",
    "#        ['Infiniti'],\n",
    "        ['Volvo']]"
   ]
  },
  {
   "cell_type": "code",
   "execution_count": 140,
   "metadata": {},
   "outputs": [],
   "source": [
    "car_columns = [\"Ford is similar to... \",\n",
    "\"Hyundai is similar to... \",\n",
    "\"BMW is similar to... \",\n",
    "\"Subaru is similar to... \",\n",
    "\"Jeep is similar to... \",\n",
    "\"Toyota is similar to... \",\n",
    "\"Chevrolet is similar to... \",\n",
    "\"Honda is similar to... \",\n",
    "\"audi\",\n",
    "\"Mercedes-Benz is similar to... \",\n",
    "\"Tesla is similar to... \",\n",
    "\"Dodge is similar to... \",\n",
    "\"Lexus is similar to... \",\n",
    "\"Porsche is similar to... \",\n",
    "\"Volkswagen is similar to... \",\n",
    "\"Ferrari is similar to... \",\n",
    "\"Nissan is similar to... \",\n",
    "\"Mazda is similar to... \",\n",
    "\"Lamborghini is similar to... \",\n",
    "\"Renault is similar to... \",\n",
    "\"Volvo is similar to... \"]"
   ]
  },
  {
   "cell_type": "code",
   "execution_count": 141,
   "metadata": {},
   "outputs": [],
   "source": [
    "def column_count(data, aliases, prompt):\n",
    "    alias_pattern = \"\"\n",
    "    for i in aliases:\n",
    "        alias_pattern += i\n",
    "        alias_pattern += \"|\"\n",
    "    alias_pattern = alias_pattern[:-1]   \n",
    "    series = data[prompt].str.contains(alias_pattern)\n",
    "    if True in series.unique():\n",
    "        return series.value_counts()[True]\n",
    "    return 0"
   ]
  },
  {
   "cell_type": "code",
   "execution_count": 142,
   "metadata": {},
   "outputs": [],
   "source": [
    "def make_freq_table(data):\n",
    "    counts = [[] for i in range(len(car_columns))]\n",
    "    brands = []\n",
    "    for aliases in car_aliases:\n",
    "        brands.append(aliases[0])\n",
    "        for i,prompt in zip(list(range(len(car_columns))), car_columns):\n",
    "            count = column_count(data, aliases,prompt)\n",
    "            counts[i].append(count)\n",
    "    d = dict()\n",
    "    d[\"brand\"] = brands\n",
    "    for i,j in zip(car_columns, counts):\n",
    "        d[i] = j\n",
    "    df = pd.DataFrame(data=d)\n",
    "    return df"
   ]
  },
  {
   "cell_type": "code",
   "execution_count": 143,
   "metadata": {},
   "outputs": [],
   "source": [
    "lower_age_counts = make_freq_table(lower_age)\n",
    "upper_age_counts = make_freq_table(upper_age)\n",
    "lower_income_counts = make_freq_table(lower_income)\n",
    "upper_income_counts = make_freq_table(upper_income)"
   ]
  },
  {
   "cell_type": "code",
   "execution_count": 150,
   "metadata": {},
   "outputs": [],
   "source": [
    "def most_similar(df):\n",
    "    return df.set_index(\"brand\").idxmax()"
   ]
  },
  {
   "cell_type": "code",
   "execution_count": 159,
   "metadata": {},
   "outputs": [],
   "source": [
    "#brand# #low inc# #high# #same?#\n",
    "def similarity_table(df_low, df_high):\n",
    "    low = most_similar(df_low)\n",
    "    high = most_similar(df_high)\n",
    "    pd_dict = {\"Low\":low, \"High\":high}\n",
    "    df =  pd.DataFrame(pd_dict)\n",
    "    df[\"equal\"] = df[\"Low\"] == df[\"High\"]\n",
    "    return df"
   ]
  },
  {
   "cell_type": "code",
   "execution_count": 160,
   "metadata": {},
   "outputs": [],
   "source": [
    "income_similarity = similarity_table(lower_income_counts, upper_income_counts)\n",
    "age_similarity = similarity_table(lower_age_counts, upper_age_counts)"
   ]
  },
  {
   "cell_type": "code",
   "execution_count": 169,
   "metadata": {},
   "outputs": [],
   "source": [
    "def diff_only(sim_table):\n",
    "    df = sim_table[~sim_table[\"equal\"]]\n",
    "    return df.drop(columns=[\"equal\"])"
   ]
  },
  {
   "cell_type": "code",
   "execution_count": 170,
   "metadata": {},
   "outputs": [],
   "source": [
    "income_diff = diff_only(income_similarity)\n",
    "age_diff = diff_only(age_similarity)"
   ]
  },
  {
   "cell_type": "code",
   "execution_count": 171,
   "metadata": {},
   "outputs": [
    {
     "data": {
      "text/html": [
       "<div>\n",
       "<style scoped>\n",
       "    .dataframe tbody tr th:only-of-type {\n",
       "        vertical-align: middle;\n",
       "    }\n",
       "\n",
       "    .dataframe tbody tr th {\n",
       "        vertical-align: top;\n",
       "    }\n",
       "\n",
       "    .dataframe thead th {\n",
       "        text-align: right;\n",
       "    }\n",
       "</style>\n",
       "<table border=\"1\" class=\"dataframe\">\n",
       "  <thead>\n",
       "    <tr style=\"text-align: right;\">\n",
       "      <th></th>\n",
       "      <th>Low</th>\n",
       "      <th>High</th>\n",
       "    </tr>\n",
       "  </thead>\n",
       "  <tbody>\n",
       "    <tr>\n",
       "      <td>Subaru is similar to...</td>\n",
       "      <td>Hyundai</td>\n",
       "      <td>Toyota</td>\n",
       "    </tr>\n",
       "    <tr>\n",
       "      <td>Tesla is similar to...</td>\n",
       "      <td>BMW</td>\n",
       "      <td>Mercedes-Benz</td>\n",
       "    </tr>\n",
       "    <tr>\n",
       "      <td>Lexus is similar to...</td>\n",
       "      <td>Mercedes-Benz</td>\n",
       "      <td>BMW</td>\n",
       "    </tr>\n",
       "    <tr>\n",
       "      <td>Nissan is similar to...</td>\n",
       "      <td>Toyota</td>\n",
       "      <td>Honda</td>\n",
       "    </tr>\n",
       "    <tr>\n",
       "      <td>Mazda is similar to...</td>\n",
       "      <td>Honda</td>\n",
       "      <td>Toyota</td>\n",
       "    </tr>\n",
       "    <tr>\n",
       "      <td>Renault is similar to...</td>\n",
       "      <td>Volkswagen</td>\n",
       "      <td>Volvo</td>\n",
       "    </tr>\n",
       "  </tbody>\n",
       "</table>\n",
       "</div>"
      ],
      "text/plain": [
       "                                     Low           High\n",
       "Subaru is similar to...          Hyundai         Toyota\n",
       "Tesla is similar to...               BMW  Mercedes-Benz\n",
       "Lexus is similar to...     Mercedes-Benz            BMW\n",
       "Nissan is similar to...           Toyota          Honda\n",
       "Mazda is similar to...             Honda         Toyota\n",
       "Renault is similar to...      Volkswagen          Volvo"
      ]
     },
     "execution_count": 171,
     "metadata": {},
     "output_type": "execute_result"
    }
   ],
   "source": [
    "income_diff"
   ]
  },
  {
   "cell_type": "code",
   "execution_count": 172,
   "metadata": {},
   "outputs": [
    {
     "data": {
      "text/html": [
       "<div>\n",
       "<style scoped>\n",
       "    .dataframe tbody tr th:only-of-type {\n",
       "        vertical-align: middle;\n",
       "    }\n",
       "\n",
       "    .dataframe tbody tr th {\n",
       "        vertical-align: top;\n",
       "    }\n",
       "\n",
       "    .dataframe thead th {\n",
       "        text-align: right;\n",
       "    }\n",
       "</style>\n",
       "<table border=\"1\" class=\"dataframe\">\n",
       "  <thead>\n",
       "    <tr style=\"text-align: right;\">\n",
       "      <th></th>\n",
       "      <th>Low</th>\n",
       "      <th>High</th>\n",
       "    </tr>\n",
       "  </thead>\n",
       "  <tbody>\n",
       "    <tr>\n",
       "      <td>Hyundai is similar to...</td>\n",
       "      <td>Honda</td>\n",
       "      <td>Hyundai</td>\n",
       "    </tr>\n",
       "    <tr>\n",
       "      <td>Subaru is similar to...</td>\n",
       "      <td>Toyota</td>\n",
       "      <td>Jeep</td>\n",
       "    </tr>\n",
       "    <tr>\n",
       "      <td>Jeep is similar to...</td>\n",
       "      <td>Ford</td>\n",
       "      <td>Dodge</td>\n",
       "    </tr>\n",
       "    <tr>\n",
       "      <td>Tesla is similar to...</td>\n",
       "      <td>BMW</td>\n",
       "      <td>Toyota</td>\n",
       "    </tr>\n",
       "    <tr>\n",
       "      <td>Lexus is similar to...</td>\n",
       "      <td>Mercedes-Benz</td>\n",
       "      <td>BMW</td>\n",
       "    </tr>\n",
       "    <tr>\n",
       "      <td>Volkswagen is similar to...</td>\n",
       "      <td>Volvo</td>\n",
       "      <td>Audi</td>\n",
       "    </tr>\n",
       "    <tr>\n",
       "      <td>Nissan is similar to...</td>\n",
       "      <td>Toyota</td>\n",
       "      <td>Honda</td>\n",
       "    </tr>\n",
       "    <tr>\n",
       "      <td>Mazda is similar to...</td>\n",
       "      <td>Honda</td>\n",
       "      <td>Nissan</td>\n",
       "    </tr>\n",
       "    <tr>\n",
       "      <td>Renault is similar to...</td>\n",
       "      <td>Jeep</td>\n",
       "      <td>Volvo</td>\n",
       "    </tr>\n",
       "  </tbody>\n",
       "</table>\n",
       "</div>"
      ],
      "text/plain": [
       "                                        Low     High\n",
       "Hyundai is similar to...              Honda  Hyundai\n",
       "Subaru is similar to...              Toyota     Jeep\n",
       "Jeep is similar to...                  Ford    Dodge\n",
       "Tesla is similar to...                  BMW   Toyota\n",
       "Lexus is similar to...        Mercedes-Benz      BMW\n",
       "Volkswagen is similar to...           Volvo     Audi\n",
       "Nissan is similar to...              Toyota    Honda\n",
       "Mazda is similar to...                Honda   Nissan\n",
       "Renault is similar to...               Jeep    Volvo"
      ]
     },
     "execution_count": 172,
     "metadata": {},
     "output_type": "execute_result"
    }
   ],
   "source": [
    "age_diff"
   ]
  },
  {
   "cell_type": "code",
   "execution_count": null,
   "metadata": {},
   "outputs": [],
   "source": []
  }
 ],
 "metadata": {
  "kernelspec": {
   "display_name": "Python 3",
   "language": "python",
   "name": "python3"
  },
  "language_info": {
   "codemirror_mode": {
    "name": "ipython",
    "version": 3
   },
   "file_extension": ".py",
   "mimetype": "text/x-python",
   "name": "python",
   "nbconvert_exporter": "python",
   "pygments_lexer": "ipython3",
   "version": "3.7.4"
  }
 },
 "nbformat": 4,
 "nbformat_minor": 2
}