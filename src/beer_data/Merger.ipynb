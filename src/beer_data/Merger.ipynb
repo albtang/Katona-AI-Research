{
 "cells": [
  {
   "cell_type": "code",
   "execution_count": 1,
   "metadata": {},
   "outputs": [],
   "source": [
    "import pandas as pd"
   ]
  },
  {
   "cell_type": "code",
   "execution_count": 7,
   "metadata": {},
   "outputs": [],
   "source": [
    "# df_1 = pd.read_csv(\"freqs/b Feb24 200 1.csv\").set_index(\"Unnamed: 0\")\n",
    "# df_2 = pd.read_csv(\"freqs/b Feb24 200 2.csv\").set_index(\"Unnamed: 0\")\n",
    "# df_3 = pd.read_csv(\"freqs/b Feb24 200 3.csv\").set_index(\"Unnamed: 0\")\n",
    "# df_4 = pd.read_csv(\"freqs/b Feb24 200 4.csv\").set_index(\"Unnamed: 0\")\n",
    "# df_5 = pd.read_csv(\"freqs/b Feb24 200 5.csv\").set_index(\"Unnamed: 0\")\n",
    "# df_6 = pd.read_csv(\"freqs/b Feb24 200 6.csv\").set_index(\"Unnamed: 0\")\n",
    "# df_7 = pd.read_csv(\"freqs/b Feb24 200 7.csv\").set_index(\"Unnamed: 0\")\n",
    "# df_8 = pd.read_csv(\"freqs/b Feb24 200 8.csv\").set_index(\"Unnamed: 0\")\n",
    "# df_9 = pd.read_csv(\"freqs/b Feb24 200 9.csv\").set_index(\"Unnamed: 0\")\n",
    "# df_10 = pd.read_csv(\"freqs/b Feb24 200 10.csv\").set_index(\"Unnamed: 0\")\n",
    "# df_11 = pd.read_csv(\"freqs/b Feb24 200 11.csv\").set_index(\"Unnamed: 0\")\n",
    "# df_12 = pd.read_csv(\"freqs/b Feb24 200 12.csv\").set_index(\"Unnamed: 0\")\n",
    "# df_13 = pd.read_csv(\"freqs/b Feb24 200 13.csv\").set_index(\"Unnamed: 0\")\n",
    "# df_14 = pd.read_csv(\"freqs/b Feb24 200 14.csv\").set_index(\"Unnamed: 0\")\n",
    "# df_15 = pd.read_csv(\"freqs/b Feb24 200 15.csv\").set_index(\"Unnamed: 0\")\n",
    "\n",
    "# df = pd.read_csv(\"freqs/jb Feb 23 3500.csv\").set_index(\"Unnamed: 0\")\n",
    "\n",
    "df1 = pd.read_csv(\"raw_text/b Feb23 250 1.csv\", index_col=0)\n",
    "df2 = pd.read_csv(\"raw_text/b Feb23 250 2.csv\", index_col=0)\n",
    "df3 = pd.read_csv(\"raw_text/b Feb23 250 3.csv\", index_col=0)\n",
    "df4 = pd.read_csv(\"raw_text/b Feb23 250 4.csv\", index_col=0)"
   ]
  },
  {
   "cell_type": "code",
   "execution_count": 8,
   "metadata": {},
   "outputs": [
    {
     "data": {
      "text/html": [
       "<div>\n",
       "<style scoped>\n",
       "    .dataframe tbody tr th:only-of-type {\n",
       "        vertical-align: middle;\n",
       "    }\n",
       "\n",
       "    .dataframe tbody tr th {\n",
       "        vertical-align: top;\n",
       "    }\n",
       "\n",
       "    .dataframe thead th {\n",
       "        text-align: right;\n",
       "    }\n",
       "</style>\n",
       "<table border=\"1\" class=\"dataframe\">\n",
       "  <thead>\n",
       "    <tr style=\"text-align: right;\">\n",
       "      <th></th>\n",
       "      <th>The beer brand is similar to</th>\n",
       "    </tr>\n",
       "  </thead>\n",
       "  <tbody>\n",
       "    <tr>\n",
       "      <th>0</th>\n",
       "      <td>the beer styles that have been popularized by...</td>\n",
       "    </tr>\n",
       "    <tr>\n",
       "      <th>1</th>\n",
       "      <td>the popular Red Bull, but has a lighter flavo...</td>\n",
       "    </tr>\n",
       "    <tr>\n",
       "      <th>2</th>\n",
       "      <td>the popular German beer Pilsner Urquell.\\n\\nT...</td>\n",
       "    </tr>\n",
       "    <tr>\n",
       "      <th>3</th>\n",
       "      <td>the one that sold the original Prince of Pers...</td>\n",
       "    </tr>\n",
       "    <tr>\n",
       "      <th>4</th>\n",
       "      <td>Budweiser, which was acquired by Anheuser-Bus...</td>\n",
       "    </tr>\n",
       "    <tr>\n",
       "      <th>...</th>\n",
       "      <td>...</td>\n",
       "    </tr>\n",
       "    <tr>\n",
       "      <th>245</th>\n",
       "      <td>the popular Heineken brand.\\n\\nThe brewery's ...</td>\n",
       "    </tr>\n",
       "    <tr>\n",
       "      <th>246</th>\n",
       "      <td>the popular Cider House brand, which is owned...</td>\n",
       "    </tr>\n",
       "    <tr>\n",
       "      <th>247</th>\n",
       "      <td>the \"Pardon The Interruption\" beer, which was...</td>\n",
       "    </tr>\n",
       "    <tr>\n",
       "      <th>248</th>\n",
       "      <td>the popular Budweiser beer, but with a more c...</td>\n",
       "    </tr>\n",
       "    <tr>\n",
       "      <th>249</th>\n",
       "      <td>the famous beer that was brewed by the German...</td>\n",
       "    </tr>\n",
       "  </tbody>\n",
       "</table>\n",
       "<p>250 rows × 1 columns</p>\n",
       "</div>"
      ],
      "text/plain": [
       "                          The beer brand is similar to\n",
       "0     the beer styles that have been popularized by...\n",
       "1     the popular Red Bull, but has a lighter flavo...\n",
       "2     the popular German beer Pilsner Urquell.\\n\\nT...\n",
       "3     the one that sold the original Prince of Pers...\n",
       "4     Budweiser, which was acquired by Anheuser-Bus...\n",
       "..                                                 ...\n",
       "245   the popular Heineken brand.\\n\\nThe brewery's ...\n",
       "246   the popular Cider House brand, which is owned...\n",
       "247   the \"Pardon The Interruption\" beer, which was...\n",
       "248   the popular Budweiser beer, but with a more c...\n",
       "249   the famous beer that was brewed by the German...\n",
       "\n",
       "[250 rows x 1 columns]"
      ]
     },
     "execution_count": 8,
     "metadata": {},
     "output_type": "execute_result"
    }
   ],
   "source": [
    "df4"
   ]
  },
  {
   "cell_type": "code",
   "execution_count": 11,
   "metadata": {},
   "outputs": [],
   "source": [
    "# joined = df+df_1+df_2+df_3+df_4+df_5+df_6+df_7+df_8+df_9+df_10+df_11+df_12+df_13+df_14+df_15\n",
    "joined = pd.concat([df1, df2, df3, df4], ignore_index=True)"
   ]
  },
  {
   "cell_type": "code",
   "execution_count": 12,
   "metadata": {},
   "outputs": [
    {
     "data": {
      "text/html": [
       "<div>\n",
       "<style scoped>\n",
       "    .dataframe tbody tr th:only-of-type {\n",
       "        vertical-align: middle;\n",
       "    }\n",
       "\n",
       "    .dataframe tbody tr th {\n",
       "        vertical-align: top;\n",
       "    }\n",
       "\n",
       "    .dataframe thead th {\n",
       "        text-align: right;\n",
       "    }\n",
       "</style>\n",
       "<table border=\"1\" class=\"dataframe\">\n",
       "  <thead>\n",
       "    <tr style=\"text-align: right;\">\n",
       "      <th></th>\n",
       "      <th>The beer brand is similar to</th>\n",
       "    </tr>\n",
       "  </thead>\n",
       "  <tbody>\n",
       "    <tr>\n",
       "      <th>0</th>\n",
       "      <td>the famous German brew Kölsch, which is brewe...</td>\n",
       "    </tr>\n",
       "    <tr>\n",
       "      <th>1</th>\n",
       "      <td>the way I drink beer with my friends and fami...</td>\n",
       "    </tr>\n",
       "    <tr>\n",
       "      <th>2</th>\n",
       "      <td>Coors Light, which was founded in 1876.\\n\\nTh...</td>\n",
       "    </tr>\n",
       "    <tr>\n",
       "      <th>3</th>\n",
       "      <td>the ones that were popular in the mid-1990s a...</td>\n",
       "    </tr>\n",
       "    <tr>\n",
       "      <th>4</th>\n",
       "      <td>the brand of the same name, which is the worl...</td>\n",
       "    </tr>\n",
       "    <tr>\n",
       "      <th>...</th>\n",
       "      <td>...</td>\n",
       "    </tr>\n",
       "    <tr>\n",
       "      <th>995</th>\n",
       "      <td>the popular Heineken brand.\\n\\nThe brewery's ...</td>\n",
       "    </tr>\n",
       "    <tr>\n",
       "      <th>996</th>\n",
       "      <td>the popular Cider House brand, which is owned...</td>\n",
       "    </tr>\n",
       "    <tr>\n",
       "      <th>997</th>\n",
       "      <td>the \"Pardon The Interruption\" beer, which was...</td>\n",
       "    </tr>\n",
       "    <tr>\n",
       "      <th>998</th>\n",
       "      <td>the popular Budweiser beer, but with a more c...</td>\n",
       "    </tr>\n",
       "    <tr>\n",
       "      <th>999</th>\n",
       "      <td>the famous beer that was brewed by the German...</td>\n",
       "    </tr>\n",
       "  </tbody>\n",
       "</table>\n",
       "<p>1000 rows × 1 columns</p>\n",
       "</div>"
      ],
      "text/plain": [
       "                          The beer brand is similar to\n",
       "0     the famous German brew Kölsch, which is brewe...\n",
       "1     the way I drink beer with my friends and fami...\n",
       "2     Coors Light, which was founded in 1876.\\n\\nTh...\n",
       "3     the ones that were popular in the mid-1990s a...\n",
       "4     the brand of the same name, which is the worl...\n",
       "..                                                 ...\n",
       "995   the popular Heineken brand.\\n\\nThe brewery's ...\n",
       "996   the popular Cider House brand, which is owned...\n",
       "997   the \"Pardon The Interruption\" beer, which was...\n",
       "998   the popular Budweiser beer, but with a more c...\n",
       "999   the famous beer that was brewed by the German...\n",
       "\n",
       "[1000 rows x 1 columns]"
      ]
     },
     "execution_count": 12,
     "metadata": {},
     "output_type": "execute_result"
    }
   ],
   "source": [
    "joined"
   ]
  },
  {
   "cell_type": "code",
   "execution_count": 17,
   "metadata": {},
   "outputs": [
    {
     "data": {
      "text/plain": [
       "3500"
      ]
     },
     "execution_count": 17,
     "metadata": {},
     "output_type": "execute_result"
    }
   ],
   "source": [
    "12*250 + 500"
   ]
  },
  {
   "cell_type": "code",
   "execution_count": 13,
   "metadata": {},
   "outputs": [],
   "source": [
    "joined.to_csv(\"raw_text/jb Feb23 1000.csv\")"
   ]
  },
  {
   "cell_type": "code",
   "execution_count": null,
   "metadata": {},
   "outputs": [],
   "source": []
  }
 ],
 "metadata": {
  "kernelspec": {
   "display_name": "Python 3",
   "language": "python",
   "name": "python3"
  },
  "language_info": {
   "codemirror_mode": {
    "name": "ipython",
    "version": 3
   },
   "file_extension": ".py",
   "mimetype": "text/x-python",
   "name": "python",
   "nbconvert_exporter": "python",
   "pygments_lexer": "ipython3",
   "version": "3.8.8"
  }
 },
 "nbformat": 4,
 "nbformat_minor": 4
}
