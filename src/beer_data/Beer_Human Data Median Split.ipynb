{
 "cells": [
  {
   "cell_type": "code",
   "execution_count": 2,
   "metadata": {},
   "outputs": [],
   "source": [
    "import pandas as pd"
   ]
  },
  {
   "cell_type": "code",
   "execution_count": 6,
   "metadata": {},
   "outputs": [],
   "source": [
    "data = pd.read_csv(\"OpenEndedBeers_April21.csv\")"
   ]
  },
  {
   "cell_type": "code",
   "execution_count": 9,
   "metadata": {},
   "outputs": [
    {
     "output_type": "execute_result",
     "data": {
      "text/plain": [
       "Index(['StartDate', 'EndDate', 'Status', 'IPAddress', 'Progress',\n",
       "       'Duration (in seconds)', 'Finished', 'RecordedDate', 'ResponseId',\n",
       "       'RecipientLastName', 'RecipientFirstName', 'RecipientEmail',\n",
       "       'ExternalReference', 'LocationLatitude', 'LocationLongitude',\n",
       "       'DistributionChannel', 'UserLanguage', 'budL', 'coorsL', 'bud', 'cor',\n",
       "       'guin', 'hei', 'stel', 'blu', 'pbr', 'mil', 'sam', 'dos', 'mic', 'rol',\n",
       "       'red', 'mlite', 'pil', 'snb', 'id', 'PROLIFIC_PID'],\n",
       "      dtype='object')"
      ]
     },
     "metadata": {},
     "execution_count": 9
    }
   ],
   "source": [
    "data.columns"
   ]
  },
  {
   "cell_type": "code",
   "execution_count": 15,
   "metadata": {},
   "outputs": [],
   "source": [
    "def median_split(data, i):\n",
    "    split = len(data)//2\n",
    "    ordered = data.sort_values(by = i)\n",
    "    return ordered.iloc[:split], ordered.iloc[split+1:]"
   ]
  },
  {
   "cell_type": "code",
   "execution_count": 13,
   "metadata": {},
   "outputs": [],
   "source": [
    "beer_aliases = [\n",
    "        [\"Bud Light\", \"budlight\"],\n",
    "        [\"Coors Light\",\t\"coors\"],\n",
    "        [\"Budweiser\",\t\"bud\",\t\"budwiser\"],\n",
    "[\"Corona Extra\",\t\"corona\"],\n",
    "[\"Guinness\"],\t\t\n",
    "[\"Heineken\",\t\"heineken light\"],\t\n",
    "[\"Stella Artois\"],\t\t\n",
    "[\"Blue Moon\"],\t\n",
    "[\"Pabst Blue Ribbon\",\t\"PBR\"],\n",
    "[\"Miller High Life\"],\t\t\n",
    "[\"Sam Adams\",\t\"Samuel Adams\"],\n",
    "[\"Dos Equis\"],\t\n",
    "[\"Michelob Ultra\",\t\"michelob light\"],\n",
    "[\"Rolling Rock\"\t],\t\n",
    "[\"Red Stripe\"],\t\t\n",
    "[\"Miller Lite\"],\t\n",
    "[\"Pilsner Urquell\",\t\"pilsner\"],\t\n",
    "[\"Sierra Nevada Brewing\",\t\"Sierra Nevada\"]\n",
    "]"
   ]
  },
  {
   "cell_type": "code",
   "execution_count": 14,
   "metadata": {},
   "outputs": [
    {
     "output_type": "execute_result",
     "data": {
      "text/plain": [
       "[['Bud Light', 'budlight'],\n",
       " ['Coors Light', 'coors'],\n",
       " ['Budweiser', 'bud', 'budwiser'],\n",
       " ['Corona Extra', 'corona'],\n",
       " ['Guinness'],\n",
       " ['Heineken', 'heineken light'],\n",
       " ['Stella Artois'],\n",
       " ['Blue Moon'],\n",
       " ['Pabst Blue Ribbon', 'PBR'],\n",
       " ['Miller High Life'],\n",
       " ['Sam Adams', 'Samuel Adams'],\n",
       " ['Dos Equis'],\n",
       " ['Michelob Ultra', 'michelob light'],\n",
       " ['Rolling Rock'],\n",
       " ['Red Stripe'],\n",
       " ['Miller Lite'],\n",
       " ['Pilsner Urquell', 'pilsner'],\n",
       " ['Sierra Nevada Brewing', 'Sierra Nevada']]"
      ]
     },
     "metadata": {},
     "execution_count": 14
    }
   ],
   "source": [
    "beer_aliases"
   ]
  },
  {
   "cell_type": "code",
   "execution_count": 10,
   "metadata": {},
   "outputs": [],
   "source": [
    "car_columns = [\n",
    "    \"budL\",\n",
    "    \"coorsL\",\n",
    "    \"bud\",\n",
    "    \"cor\",\n",
    "    \"guin\",\n",
    "    \"hei\",\n",
    "    \"stel\",\n",
    "    \"blu\",\n",
    "    \"pbr\",\n",
    "    \"mil\",\n",
    "    \"sam\",\n",
    "    \"dos\",\n",
    "    \"mic\",\n",
    "    \"rol\",\n",
    "    \"red\",\n",
    "    \"mlite\",\n",
    "    \"pil\",\n",
    "    \"snb\"\n",
    "]"
   ]
  },
  {
   "cell_type": "code",
   "execution_count": 16,
   "metadata": {},
   "outputs": [],
   "source": [
    "def column_count(data, aliases, prompt):\n",
    "    alias_pattern = \"\"\n",
    "    for i in aliases:\n",
    "        alias_pattern += i\n",
    "        alias_pattern += \"|\"\n",
    "    alias_pattern = alias_pattern[:-1]   \n",
    "    series = data[prompt].str.contains(alias_pattern)\n",
    "    if True in series.unique():\n",
    "        return series.value_counts()[True]\n",
    "    return 0"
   ]
  },
  {
   "cell_type": "code",
   "execution_count": 17,
   "metadata": {},
   "outputs": [],
   "source": [
    "def make_freq_table(data):\n",
    "    counts = [[] for i in range(len(car_columns))]\n",
    "    brands = []\n",
    "    for aliases in beer_aliases:\n",
    "        brands.append(aliases[0])\n",
    "        for i,prompt in zip(list(range(len(car_columns))), car_columns):\n",
    "            count = column_count(data, aliases,prompt)\n",
    "            counts[i].append(count)\n",
    "    d = dict()\n",
    "    d[\"brand\"] = brands\n",
    "    for i,j in zip(car_columns, counts):\n",
    "        d[i] = j\n",
    "    df = pd.DataFrame(data=d)\n",
    "    return df"
   ]
  },
  {
   "cell_type": "code",
   "execution_count": 22,
   "metadata": {},
   "outputs": [
    {
     "output_type": "execute_result",
     "data": {
      "text/plain": [
       "                    brand  budL  coorsL  bud  cor  guin  hei  stel  blu  pbr  \\\n",
       "0               Bud Light     0       2    3    1     0    1     0    1    0   \n",
       "1             Coors Light     4       0    3    0     0    0     0    0    2   \n",
       "2               Budweiser     4       2    0    3     0    3     0    1    2   \n",
       "3            Corona Extra     0       0    2    0     0    2     0    0    1   \n",
       "4                Guinness     0       0    0    0     2    2     0    0    0   \n",
       "5                Heineken     3       0    3    0     1    0     3    1    0   \n",
       "6           Stella Artois     0       1    0    0     1    2     0    0    0   \n",
       "7               Blue Moon     0       0    0    0     0    1     0    1    1   \n",
       "8       Pabst Blue Ribbon     0       1    1    1     0    0     0    2    0   \n",
       "9        Miller High Life     0       0    0    0     0    0     1    0    0   \n",
       "10              Sam Adams     0       0    0    1     0    0     1    1    1   \n",
       "11              Dos Equis     0       0    0    0     0    0     1    0    0   \n",
       "12         Michelob Ultra     0       1    0    0     1    0     0    0    0   \n",
       "13           Rolling Rock     1       1    0    0     0    3     0    1    1   \n",
       "14             Red Stripe     0       0    0    1     0    0     3    0    0   \n",
       "15            Miller Lite     0       1    0    0     0    1     0    1    2   \n",
       "16        Pilsner Urquell     0       0    1    0     0    0     1    0    0   \n",
       "17  Sierra Nevada Brewing     0       1    0    0     0    0     0    0    0   \n",
       "\n",
       "    mil  sam  dos  mic  rol  red  mlite  pil  snb  \n",
       "0     0    0    0    0    1    1      1    0    0  \n",
       "1     0    0    0    0    1    0      1    0    0  \n",
       "2     1    0    1    0    0    4      1    2    0  \n",
       "3     3    1    0    0    0    3      0    1    0  \n",
       "4     0    0    0    1    0    0      0    0    0  \n",
       "5     0    1    2    0    4    0      2    1    0  \n",
       "6     1    1    0    0    0    2      0    1    1  \n",
       "7     0    1    0    0    0    0      1    0    0  \n",
       "8     0    1    0    0    0    0      2    1    0  \n",
       "9     0    0    0    0    1    2      0    0    1  \n",
       "10    0    0    0    0    0    0      0    1    0  \n",
       "11    0    0    0    2    0    0      0    0    0  \n",
       "12    0    0    2    0    0    0      0    0    1  \n",
       "13    1    0    0    0    1    2      1    0    1  \n",
       "14    2    0    0    0    1    0      0    2    0  \n",
       "15    0    0    0    0    1    0      0    1    0  \n",
       "16    0    1    0    1    0    1      0    0    1  \n",
       "17    1    0    0    1    1    1      0    0    1  "
      ],
      "text/html": "<div>\n<style scoped>\n    .dataframe tbody tr th:only-of-type {\n        vertical-align: middle;\n    }\n\n    .dataframe tbody tr th {\n        vertical-align: top;\n    }\n\n    .dataframe thead th {\n        text-align: right;\n    }\n</style>\n<table border=\"1\" class=\"dataframe\">\n  <thead>\n    <tr style=\"text-align: right;\">\n      <th></th>\n      <th>brand</th>\n      <th>budL</th>\n      <th>coorsL</th>\n      <th>bud</th>\n      <th>cor</th>\n      <th>guin</th>\n      <th>hei</th>\n      <th>stel</th>\n      <th>blu</th>\n      <th>pbr</th>\n      <th>mil</th>\n      <th>sam</th>\n      <th>dos</th>\n      <th>mic</th>\n      <th>rol</th>\n      <th>red</th>\n      <th>mlite</th>\n      <th>pil</th>\n      <th>snb</th>\n    </tr>\n  </thead>\n  <tbody>\n    <tr>\n      <td>0</td>\n      <td>Bud Light</td>\n      <td>0</td>\n      <td>2</td>\n      <td>3</td>\n      <td>1</td>\n      <td>0</td>\n      <td>1</td>\n      <td>0</td>\n      <td>1</td>\n      <td>0</td>\n      <td>0</td>\n      <td>0</td>\n      <td>0</td>\n      <td>0</td>\n      <td>1</td>\n      <td>1</td>\n      <td>1</td>\n      <td>0</td>\n      <td>0</td>\n    </tr>\n    <tr>\n      <td>1</td>\n      <td>Coors Light</td>\n      <td>4</td>\n      <td>0</td>\n      <td>3</td>\n      <td>0</td>\n      <td>0</td>\n      <td>0</td>\n      <td>0</td>\n      <td>0</td>\n      <td>2</td>\n      <td>0</td>\n      <td>0</td>\n      <td>0</td>\n      <td>0</td>\n      <td>1</td>\n      <td>0</td>\n      <td>1</td>\n      <td>0</td>\n      <td>0</td>\n    </tr>\n    <tr>\n      <td>2</td>\n      <td>Budweiser</td>\n      <td>4</td>\n      <td>2</td>\n      <td>0</td>\n      <td>3</td>\n      <td>0</td>\n      <td>3</td>\n      <td>0</td>\n      <td>1</td>\n      <td>2</td>\n      <td>1</td>\n      <td>0</td>\n      <td>1</td>\n      <td>0</td>\n      <td>0</td>\n      <td>4</td>\n      <td>1</td>\n      <td>2</td>\n      <td>0</td>\n    </tr>\n    <tr>\n      <td>3</td>\n      <td>Corona Extra</td>\n      <td>0</td>\n      <td>0</td>\n      <td>2</td>\n      <td>0</td>\n      <td>0</td>\n      <td>2</td>\n      <td>0</td>\n      <td>0</td>\n      <td>1</td>\n      <td>3</td>\n      <td>1</td>\n      <td>0</td>\n      <td>0</td>\n      <td>0</td>\n      <td>3</td>\n      <td>0</td>\n      <td>1</td>\n      <td>0</td>\n    </tr>\n    <tr>\n      <td>4</td>\n      <td>Guinness</td>\n      <td>0</td>\n      <td>0</td>\n      <td>0</td>\n      <td>0</td>\n      <td>2</td>\n      <td>2</td>\n      <td>0</td>\n      <td>0</td>\n      <td>0</td>\n      <td>0</td>\n      <td>0</td>\n      <td>0</td>\n      <td>1</td>\n      <td>0</td>\n      <td>0</td>\n      <td>0</td>\n      <td>0</td>\n      <td>0</td>\n    </tr>\n    <tr>\n      <td>5</td>\n      <td>Heineken</td>\n      <td>3</td>\n      <td>0</td>\n      <td>3</td>\n      <td>0</td>\n      <td>1</td>\n      <td>0</td>\n      <td>3</td>\n      <td>1</td>\n      <td>0</td>\n      <td>0</td>\n      <td>1</td>\n      <td>2</td>\n      <td>0</td>\n      <td>4</td>\n      <td>0</td>\n      <td>2</td>\n      <td>1</td>\n      <td>0</td>\n    </tr>\n    <tr>\n      <td>6</td>\n      <td>Stella Artois</td>\n      <td>0</td>\n      <td>1</td>\n      <td>0</td>\n      <td>0</td>\n      <td>1</td>\n      <td>2</td>\n      <td>0</td>\n      <td>0</td>\n      <td>0</td>\n      <td>1</td>\n      <td>1</td>\n      <td>0</td>\n      <td>0</td>\n      <td>0</td>\n      <td>2</td>\n      <td>0</td>\n      <td>1</td>\n      <td>1</td>\n    </tr>\n    <tr>\n      <td>7</td>\n      <td>Blue Moon</td>\n      <td>0</td>\n      <td>0</td>\n      <td>0</td>\n      <td>0</td>\n      <td>0</td>\n      <td>1</td>\n      <td>0</td>\n      <td>1</td>\n      <td>1</td>\n      <td>0</td>\n      <td>1</td>\n      <td>0</td>\n      <td>0</td>\n      <td>0</td>\n      <td>0</td>\n      <td>1</td>\n      <td>0</td>\n      <td>0</td>\n    </tr>\n    <tr>\n      <td>8</td>\n      <td>Pabst Blue Ribbon</td>\n      <td>0</td>\n      <td>1</td>\n      <td>1</td>\n      <td>1</td>\n      <td>0</td>\n      <td>0</td>\n      <td>0</td>\n      <td>2</td>\n      <td>0</td>\n      <td>0</td>\n      <td>1</td>\n      <td>0</td>\n      <td>0</td>\n      <td>0</td>\n      <td>0</td>\n      <td>2</td>\n      <td>1</td>\n      <td>0</td>\n    </tr>\n    <tr>\n      <td>9</td>\n      <td>Miller High Life</td>\n      <td>0</td>\n      <td>0</td>\n      <td>0</td>\n      <td>0</td>\n      <td>0</td>\n      <td>0</td>\n      <td>1</td>\n      <td>0</td>\n      <td>0</td>\n      <td>0</td>\n      <td>0</td>\n      <td>0</td>\n      <td>0</td>\n      <td>1</td>\n      <td>2</td>\n      <td>0</td>\n      <td>0</td>\n      <td>1</td>\n    </tr>\n    <tr>\n      <td>10</td>\n      <td>Sam Adams</td>\n      <td>0</td>\n      <td>0</td>\n      <td>0</td>\n      <td>1</td>\n      <td>0</td>\n      <td>0</td>\n      <td>1</td>\n      <td>1</td>\n      <td>1</td>\n      <td>0</td>\n      <td>0</td>\n      <td>0</td>\n      <td>0</td>\n      <td>0</td>\n      <td>0</td>\n      <td>0</td>\n      <td>1</td>\n      <td>0</td>\n    </tr>\n    <tr>\n      <td>11</td>\n      <td>Dos Equis</td>\n      <td>0</td>\n      <td>0</td>\n      <td>0</td>\n      <td>0</td>\n      <td>0</td>\n      <td>0</td>\n      <td>1</td>\n      <td>0</td>\n      <td>0</td>\n      <td>0</td>\n      <td>0</td>\n      <td>0</td>\n      <td>2</td>\n      <td>0</td>\n      <td>0</td>\n      <td>0</td>\n      <td>0</td>\n      <td>0</td>\n    </tr>\n    <tr>\n      <td>12</td>\n      <td>Michelob Ultra</td>\n      <td>0</td>\n      <td>1</td>\n      <td>0</td>\n      <td>0</td>\n      <td>1</td>\n      <td>0</td>\n      <td>0</td>\n      <td>0</td>\n      <td>0</td>\n      <td>0</td>\n      <td>0</td>\n      <td>2</td>\n      <td>0</td>\n      <td>0</td>\n      <td>0</td>\n      <td>0</td>\n      <td>0</td>\n      <td>1</td>\n    </tr>\n    <tr>\n      <td>13</td>\n      <td>Rolling Rock</td>\n      <td>1</td>\n      <td>1</td>\n      <td>0</td>\n      <td>0</td>\n      <td>0</td>\n      <td>3</td>\n      <td>0</td>\n      <td>1</td>\n      <td>1</td>\n      <td>1</td>\n      <td>0</td>\n      <td>0</td>\n      <td>0</td>\n      <td>1</td>\n      <td>2</td>\n      <td>1</td>\n      <td>0</td>\n      <td>1</td>\n    </tr>\n    <tr>\n      <td>14</td>\n      <td>Red Stripe</td>\n      <td>0</td>\n      <td>0</td>\n      <td>0</td>\n      <td>1</td>\n      <td>0</td>\n      <td>0</td>\n      <td>3</td>\n      <td>0</td>\n      <td>0</td>\n      <td>2</td>\n      <td>0</td>\n      <td>0</td>\n      <td>0</td>\n      <td>1</td>\n      <td>0</td>\n      <td>0</td>\n      <td>2</td>\n      <td>0</td>\n    </tr>\n    <tr>\n      <td>15</td>\n      <td>Miller Lite</td>\n      <td>0</td>\n      <td>1</td>\n      <td>0</td>\n      <td>0</td>\n      <td>0</td>\n      <td>1</td>\n      <td>0</td>\n      <td>1</td>\n      <td>2</td>\n      <td>0</td>\n      <td>0</td>\n      <td>0</td>\n      <td>0</td>\n      <td>1</td>\n      <td>0</td>\n      <td>0</td>\n      <td>1</td>\n      <td>0</td>\n    </tr>\n    <tr>\n      <td>16</td>\n      <td>Pilsner Urquell</td>\n      <td>0</td>\n      <td>0</td>\n      <td>1</td>\n      <td>0</td>\n      <td>0</td>\n      <td>0</td>\n      <td>1</td>\n      <td>0</td>\n      <td>0</td>\n      <td>0</td>\n      <td>1</td>\n      <td>0</td>\n      <td>1</td>\n      <td>0</td>\n      <td>1</td>\n      <td>0</td>\n      <td>0</td>\n      <td>1</td>\n    </tr>\n    <tr>\n      <td>17</td>\n      <td>Sierra Nevada Brewing</td>\n      <td>0</td>\n      <td>1</td>\n      <td>0</td>\n      <td>0</td>\n      <td>0</td>\n      <td>0</td>\n      <td>0</td>\n      <td>0</td>\n      <td>0</td>\n      <td>1</td>\n      <td>0</td>\n      <td>0</td>\n      <td>1</td>\n      <td>1</td>\n      <td>1</td>\n      <td>0</td>\n      <td>0</td>\n      <td>1</td>\n    </tr>\n  </tbody>\n</table>\n</div>"
     },
     "metadata": {},
     "execution_count": 22
    }
   ],
   "source": [
    "freq_table = make_freq_table(data)\n",
    "freq_table"
   ]
  },
  {
   "cell_type": "code",
   "execution_count": 19,
   "metadata": {},
   "outputs": [
    {
     "output_type": "execute_result",
     "data": {
      "text/plain": [
       "brand\n",
       "Bud Light                   bud\n",
       "Coors Light                budL\n",
       "Budweiser                  budL\n",
       "Corona Extra                mil\n",
       "Guinness                   guin\n",
       "Heineken                    rol\n",
       "Stella Artois               hei\n",
       "Blue Moon                   hei\n",
       "Pabst Blue Ribbon           blu\n",
       "Miller High Life            red\n",
       "Sam Adams                   cor\n",
       "Dos Equis                   mic\n",
       "Michelob Ultra              dos\n",
       "Rolling Rock                hei\n",
       "Red Stripe                 stel\n",
       "Miller Lite                 pbr\n",
       "Pilsner Urquell             bud\n",
       "Sierra Nevada Brewing    coorsL\n",
       "dtype: object"
      ]
     },
     "metadata": {},
     "execution_count": 19
    }
   ],
   "source": [
    "def most_similar(df):\n",
    "    return df.set_index(\"brand\").idxmax(axis =1)\n",
    "most_similar(freq_table)"
   ]
  },
  {
   "cell_type": "code",
   "execution_count": 20,
   "metadata": {},
   "outputs": [],
   "source": [
    "#brand# #low inc# #high# #same?#\n",
    "def similarity_table(df_low, df_high):\n",
    "    low = most_similar(df_low)\n",
    "    high = most_similar(df_high)\n",
    "    pd_dict = {\"Low\":low, \"High\":high}\n",
    "    df =  pd.DataFrame(pd_dict)\n",
    "    df[\"Low\"] = df[\"Low\"].str.split().str[0]\n",
    "    df[\"High\"] = df[\"High\"].str.split().str[0]\n",
    "    df[\"equal\"] = df[\"Low\"] == df[\"High\"]\n",
    "    return df"
   ]
  },
  {
   "cell_type": "code",
   "execution_count": 21,
   "metadata": {},
   "outputs": [
    {
     "output_type": "error",
     "ename": "NameError",
     "evalue": "name 'lower_income_counts' is not defined",
     "traceback": [
      "\u001b[0;31m---------------------------------------------------------------------------\u001b[0m",
      "\u001b[0;31mNameError\u001b[0m                                 Traceback (most recent call last)",
      "\u001b[0;32m<ipython-input-21-98915bf41715>\u001b[0m in \u001b[0;36m<module>\u001b[0;34m\u001b[0m\n\u001b[0;32m----> 1\u001b[0;31m \u001b[0mincome_similarity\u001b[0m \u001b[0;34m=\u001b[0m \u001b[0msimilarity_table\u001b[0m\u001b[0;34m(\u001b[0m\u001b[0mlower_income_counts\u001b[0m\u001b[0;34m,\u001b[0m \u001b[0mupper_income_counts\u001b[0m\u001b[0;34m)\u001b[0m\u001b[0;34m\u001b[0m\u001b[0;34m\u001b[0m\u001b[0m\n\u001b[0m\u001b[1;32m      2\u001b[0m \u001b[0mage_similarity\u001b[0m \u001b[0;34m=\u001b[0m \u001b[0msimilarity_table\u001b[0m\u001b[0;34m(\u001b[0m\u001b[0mlower_age_counts\u001b[0m\u001b[0;34m,\u001b[0m \u001b[0mupper_age_counts\u001b[0m\u001b[0;34m)\u001b[0m\u001b[0;34m\u001b[0m\u001b[0;34m\u001b[0m\u001b[0m\n",
      "\u001b[0;31mNameError\u001b[0m: name 'lower_income_counts' is not defined"
     ]
    }
   ],
   "source": []
  },
  {
   "cell_type": "code",
   "execution_count": 59,
   "metadata": {},
   "outputs": [],
   "source": [
    "def diff_only(sim_table):\n",
    "    df = sim_table[~sim_table[\"equal\"]]\n",
    "    return df.drop(columns=[\"equal\"])"
   ]
  },
  {
   "cell_type": "code",
   "execution_count": 60,
   "metadata": {},
   "outputs": [],
   "source": [
    "income_diff = diff_only(income_similarity)\n",
    "age_diff = diff_only(age_similarity)"
   ]
  },
  {
   "cell_type": "code",
   "execution_count": 61,
   "metadata": {},
   "outputs": [
    {
     "output_type": "execute_result",
     "data": {
      "text/plain": [
       "                   Low        High\n",
       "brand                             \n",
       "Jeep             Dodge      Subaru\n",
       "Subaru           Volvo       Mazda\n",
       "Dodge             Jeep        Ford\n",
       "Tesla             audi       Tesla\n",
       "Mazda            Honda      Subaru\n",
       "Renault        Renault  Volkswagen\n",
       "Porsche    Lamborghini     Ferrari\n",
       "Lexus    Mercedes-Benz        audi"
      ],
      "text/html": "<div>\n<style scoped>\n    .dataframe tbody tr th:only-of-type {\n        vertical-align: middle;\n    }\n\n    .dataframe tbody tr th {\n        vertical-align: top;\n    }\n\n    .dataframe thead th {\n        text-align: right;\n    }\n</style>\n<table border=\"1\" class=\"dataframe\">\n  <thead>\n    <tr style=\"text-align: right;\">\n      <th></th>\n      <th>Low</th>\n      <th>High</th>\n    </tr>\n    <tr>\n      <th>brand</th>\n      <th></th>\n      <th></th>\n    </tr>\n  </thead>\n  <tbody>\n    <tr>\n      <td>Jeep</td>\n      <td>Dodge</td>\n      <td>Subaru</td>\n    </tr>\n    <tr>\n      <td>Subaru</td>\n      <td>Volvo</td>\n      <td>Mazda</td>\n    </tr>\n    <tr>\n      <td>Dodge</td>\n      <td>Jeep</td>\n      <td>Ford</td>\n    </tr>\n    <tr>\n      <td>Tesla</td>\n      <td>audi</td>\n      <td>Tesla</td>\n    </tr>\n    <tr>\n      <td>Mazda</td>\n      <td>Honda</td>\n      <td>Subaru</td>\n    </tr>\n    <tr>\n      <td>Renault</td>\n      <td>Renault</td>\n      <td>Volkswagen</td>\n    </tr>\n    <tr>\n      <td>Porsche</td>\n      <td>Lamborghini</td>\n      <td>Ferrari</td>\n    </tr>\n    <tr>\n      <td>Lexus</td>\n      <td>Mercedes-Benz</td>\n      <td>audi</td>\n    </tr>\n  </tbody>\n</table>\n</div>"
     },
     "metadata": {},
     "execution_count": 61
    }
   ],
   "source": [
    "income_diff"
   ]
  },
  {
   "cell_type": "code",
   "execution_count": 62,
   "metadata": {},
   "outputs": [
    {
     "output_type": "execute_result",
     "data": {
      "text/plain": [
       "                 Low           High\n",
       "brand                              \n",
       "Jeep           Dodge         Subaru\n",
       "Subaru         Mazda     Volkswagen\n",
       "Dodge           Jeep           Ford\n",
       "Tesla          Lexus          Tesla\n",
       "Hyundai       Nissan        Hyundai\n",
       "Mazda         Subaru         Nissan\n",
       "Renault      Renault     Volkswagen\n",
       "Porsche  Lamborghini        Ferrari\n",
       "Lexus           audi  Mercedes-Benz\n",
       "Volvo     Volkswagen           audi"
      ],
      "text/html": "<div>\n<style scoped>\n    .dataframe tbody tr th:only-of-type {\n        vertical-align: middle;\n    }\n\n    .dataframe tbody tr th {\n        vertical-align: top;\n    }\n\n    .dataframe thead th {\n        text-align: right;\n    }\n</style>\n<table border=\"1\" class=\"dataframe\">\n  <thead>\n    <tr style=\"text-align: right;\">\n      <th></th>\n      <th>Low</th>\n      <th>High</th>\n    </tr>\n    <tr>\n      <th>brand</th>\n      <th></th>\n      <th></th>\n    </tr>\n  </thead>\n  <tbody>\n    <tr>\n      <td>Jeep</td>\n      <td>Dodge</td>\n      <td>Subaru</td>\n    </tr>\n    <tr>\n      <td>Subaru</td>\n      <td>Mazda</td>\n      <td>Volkswagen</td>\n    </tr>\n    <tr>\n      <td>Dodge</td>\n      <td>Jeep</td>\n      <td>Ford</td>\n    </tr>\n    <tr>\n      <td>Tesla</td>\n      <td>Lexus</td>\n      <td>Tesla</td>\n    </tr>\n    <tr>\n      <td>Hyundai</td>\n      <td>Nissan</td>\n      <td>Hyundai</td>\n    </tr>\n    <tr>\n      <td>Mazda</td>\n      <td>Subaru</td>\n      <td>Nissan</td>\n    </tr>\n    <tr>\n      <td>Renault</td>\n      <td>Renault</td>\n      <td>Volkswagen</td>\n    </tr>\n    <tr>\n      <td>Porsche</td>\n      <td>Lamborghini</td>\n      <td>Ferrari</td>\n    </tr>\n    <tr>\n      <td>Lexus</td>\n      <td>audi</td>\n      <td>Mercedes-Benz</td>\n    </tr>\n    <tr>\n      <td>Volvo</td>\n      <td>Volkswagen</td>\n      <td>audi</td>\n    </tr>\n  </tbody>\n</table>\n</div>"
     },
     "metadata": {},
     "execution_count": 62
    }
   ],
   "source": [
    "age_diff"
   ]
  },
  {
   "cell_type": "code",
   "execution_count": null,
   "metadata": {},
   "outputs": [],
   "source": []
  }
 ],
 "metadata": {
  "kernelspec": {
   "name": "python374jvsc74a57bd0d287fde117a95bd26dfdff9c7a71307342e0137576aacf3f46b9d0a3a3d68f71",
   "display_name": "Python 3.7.4 64-bit ('base': conda)"
  },
  "language_info": {
   "codemirror_mode": {
    "name": "ipython",
    "version": 3
   },
   "file_extension": ".py",
   "mimetype": "text/x-python",
   "name": "python",
   "nbconvert_exporter": "python",
   "pygments_lexer": "ipython3",
   "version": "3.7.4"
  }
 },
 "nbformat": 4,
 "nbformat_minor": 2
}