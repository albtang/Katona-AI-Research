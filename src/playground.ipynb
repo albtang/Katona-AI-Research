{
 "cells": [
  {
   "cell_type": "code",
   "execution_count": null,
   "metadata": {},
   "outputs": [],
   "source": [
    "def process_responses(all_text,keywords):\n",
    "    frqs={}\n",
    "    frq=defaultdict(int)\n",
    "    text_list=all_text[text_list]\n",
    "    for words in keywords:\n",
    "        for word in words:\n",
    "            regex_string = '[^A-z]' + word + '[^A-z]'\n",
    "            frq[words[0]]+=len([text for text in text_list if [re.findall('[^A-z]' + word + '[^A-z]', text) for word in words]])\n",
    "        frqs[tmp]=frq\n",
    "    return frqs\n",
    "\n",
    "aliases = [['Jeep', 'Fiat', 'Chrysler'],\n",
    "        ['Subaru', 'Bugeye', 'Scooby'],\n",
    "        ['Dodge', 'Polara'],\n",
    "        ['GMC'],\n",
    "        ['Tesla'],\n",
    "        ['Buick'],\n",
    "        ['Toyota', 'Yota', 'Camry'],\n",
    "        ['Honda', 'Accord'],\n",
    "        ['Nissan', 'Infiniti'],\n",
    "        ['Chevrolet', 'Chevy'],\n",
    "        ['Hyundai', 'Tiburon', 'HYU', 'Kia'],\n",
    "        ['Ram'],\n",
    "        ['Mazda', 'Matsuda'],\n",
    "        ['Renault', 'Dacia'],\n",
    "        ['Lamborghini', 'Lambo', 'Aventadora', 'Lamborgini'],\n",
    "        ['Mercedes-Benz', 'Merc', 'Benz', 'Mercedes'],\n",
    "        ['BMW', 'Beemer', 'Bimmer', 'Beamer'],\n",
    "        ['Ford', 'Thunderbird', 'Mustang'],\n",
    "        ['Porsche', 'Porche', 'Porce'],\n",
    "        ['Audi', '4 Rings'],\n",
    "        ['Volkswagen', 'VW', 'Volkswagon'],\n",
    "        ['Ferrari', 'Prancing Horse', 'Scuderia'],\n",
    "        ['MG', 'M.G.', 'Morris Garages', 'M.G. Car Company'],\n",
    "        ['Lexus', 'Lex', 'GX', 'ES 250'],\n",
    "        ['Infiniti'],\n",
    "        ['Volvo']]"
   ]
  },
  {
   "cell_type": "code",
   "execution_count": null,
   "metadata": {},
   "outputs": [],
   "source": []
  }
 ],
 "metadata": {
  "kernelspec": {
   "display_name": "Python 3",
   "language": "python",
   "name": "python3"
  },
  "language_info": {
   "codemirror_mode": {
    "name": "ipython",
    "version": 3
   },
   "file_extension": ".py",
   "mimetype": "text/x-python",
   "name": "python",
   "nbconvert_exporter": "python",
   "pygments_lexer": "ipython3",
   "version": "3.8.6"
  }
 },
 "nbformat": 4,
 "nbformat_minor": 4
}
