{
 "cells": [
  {
   "cell_type": "code",
   "execution_count": null,
   "metadata": {},
   "outputs": [],
   "source": [
    "def process_responses(all_text,keywords):\n",
    "    frqs={}\n",
    "    frq=defaultdict(int)\n",
    "    text_list=all_text[text_list]\n",
    "    for words in keywords:\n",
    "        for word in words:\n",
    "            regex_string = '[^A-z]' + word + '[^A-z]'\n",
    "            frq[words[0]]+=len([text for text in text_list if [re.findall('[^A-z]' + word + '[^A-z]', text) for word in words]])\n",
    "        frqs[tmp]=frq\n",
    "    return frqs\n",
    "\n",
    "aliases = [['Jeep', 'Fiat', 'Chrysler'],\n",
    "        ['Subaru', 'Bugeye', 'Scooby'],\n",
    "        ['Dodge', 'Polara'],\n",
    "        ['GMC'],\n",
    "        ['Tesla'],\n",
    "        ['Buick'],\n",
    "        ['Toyota', 'Yota', 'Camry'],\n",
    "        ['Honda', 'Accord'],\n",
    "        ['Nissan', 'Infiniti'],\n",
    "        ['Chevrolet', 'Chevy'],\n",
    "        ['Hyundai', 'Tiburon', 'HYU', 'Kia'],\n",
    "        ['Ram'],\n",
    "        ['Mazda', 'Matsuda'],\n",
    "        ['Renault', 'Dacia'],\n",
    "        ['Lamborghini', 'Lambo', 'Aventadora', 'Lamborgini'],\n",
    "        ['Mercedes-Benz', 'Merc', 'Benz', 'Mercedes'],\n",
    "        ['BMW', 'Beemer', 'Bimmer', 'Beamer'],\n",
    "        ['Ford', 'Thunderbird', 'Mustang'],\n",
    "        ['Porsche', 'Porche', 'Porce'],\n",
    "        ['Audi', '4 Rings'],\n",
    "        ['Volkswagen', 'VW', 'Volkswagon'],\n",
    "        ['Ferrari', 'Prancing Horse', 'Scuderia'],\n",
    "        ['MG', 'M.G.', 'Morris Garages', 'M.G. Car Company'],\n",
    "        ['Lexus', 'Lex', 'GX', 'ES 250'],\n",
    "        ['Infiniti'],\n",
    "        ['Volvo']]"
   ]
  },
  {
   "cell_type": "code",
   "execution_count": 1,
   "metadata": {},
   "outputs": [],
   "source": [
    "import pandas as pd"
   ]
  },
  {
   "cell_type": "code",
   "execution_count": 2,
   "metadata": {},
   "outputs": [],
   "source": [
    "df06 = pd.read_csv(\"data/raw_text/b Dec21 t06 100.csv\")\n",
    "df07 = pd.read_csv(\"data/raw_text/b Dec21 t07 100.csv\")\n",
    "df08 = pd.read_csv(\"data/raw_text/Dec22 t08 100.csv\")\n",
    "df09 = pd.read_csv(\"data/raw_text/Dec22 t09 100.csv\")\n",
    "df10 = pd.read_csv(\"data/raw_text/b Jan5 t1 100.csv\")\n",
    "df11 = pd.read_csv(\"data/raw_text/b Jan5 t11 100.csv\")"
   ]
  },
  {
   "cell_type": "code",
   "execution_count": 20,
   "metadata": {},
   "outputs": [
    {
     "name": "stdout",
     "output_type": "stream",
     "text": [
      "Proportion of texts containing '<|endoftext|>'\n",
      "Temperature 0.6: 0.41\n"
     ]
    }
   ],
   "source": [
    "print(\"Proportion of texts containing '<|endoftext|>'\")\n",
    "print(\"Temperature 0.6: \" + str(df06['The car brand is similar to'].str.contains(\"<|endoftext|>\").sum() / df06.shape[0]))"
   ]
  },
  {
   "cell_type": "code",
   "execution_count": 10,
   "metadata": {},
   "outputs": [
    {
     "data": {
      "text/plain": [
       "0.41"
      ]
     },
     "execution_count": 10,
     "metadata": {},
     "output_type": "execute_result"
    }
   ],
   "source": [
    "df06['The car brand is similar to'].str.contains(\"<|endoftext|>\").sum() / df06.shape[0]"
   ]
  },
  {
   "cell_type": "code",
   "execution_count": 14,
   "metadata": {},
   "outputs": [
    {
     "data": {
      "text/plain": [
       "0.44"
      ]
     },
     "execution_count": 14,
     "metadata": {},
     "output_type": "execute_result"
    }
   ],
   "source": [
    "df07['The car brand is similar to'].str.contains(\"<|endoftext|>\").sum() / df07.shape[0]"
   ]
  },
  {
   "cell_type": "code",
   "execution_count": 15,
   "metadata": {},
   "outputs": [
    {
     "data": {
      "text/plain": [
       "0.5"
      ]
     },
     "execution_count": 15,
     "metadata": {},
     "output_type": "execute_result"
    }
   ],
   "source": [
    "df08['The car brand is similar to'].str.contains(\"<|endoftext|>\").sum() / df08.shape[0]"
   ]
  },
  {
   "cell_type": "code",
   "execution_count": 16,
   "metadata": {},
   "outputs": [
    {
     "data": {
      "text/plain": [
       "0.4166666666666667"
      ]
     },
     "execution_count": 16,
     "metadata": {},
     "output_type": "execute_result"
    }
   ],
   "source": [
    "df09['The car brand is similar to'].str.contains(\"<|endoftext|>\").sum() / df09.shape[0]"
   ]
  },
  {
   "cell_type": "code",
   "execution_count": 17,
   "metadata": {},
   "outputs": [
    {
     "data": {
      "text/plain": [
       "0.34"
      ]
     },
     "execution_count": 17,
     "metadata": {},
     "output_type": "execute_result"
    }
   ],
   "source": [
    "df10['The car brand is similar to'].str.contains(\"<|endoftext|>\").sum() / df10.shape[0]"
   ]
  },
  {
   "cell_type": "code",
   "execution_count": null,
   "metadata": {},
   "outputs": [],
   "source": [
    "df11['The car brand is similar to'].str.contains(\"<|endoftext|>\").sum() / df11.shape[0]"
   ]
  }
 ],
 "metadata": {
  "history": [
   {
    "code": "import pandas as pd",
    "id": "4e81fddc54764a5fb17965300035fec0",
    "idx": 1,
    "time": "2021-01-25T22:39:07.744Z",
    "type": "execution"
   },
   {
    "id": "4e81fddc54764a5fb17965300035fec0",
    "time": "2021-01-25T22:39:08.177Z",
    "type": "completion"
   },
   {
    "code": "df06 = pd.read_csv(\"data/raw_text/b Dec21 t06 100.csv\")\ndf07 = pd.read_csv(\"data/raw_text/b Dec21 t07 100.csv\")\ndf08 = pd.read_csv(\"data/raw_text/Dec22 t08 100.csv\")\ndf09 = pd.read_csv(\"data/raw_text/Dec22 t09 100.csv\")\ndf10 = pd.read_csv(\"data/raw_text/b Jan5 t1 100.csv\")\ndf11 = pd.read_csv(\"data/raw_text/b Jan5 t11 100.csv\")",
    "id": "e401781aa1bf477985a79072d2810787",
    "idx": 2,
    "time": "2021-01-25T23:11:45.591Z",
    "type": "execution"
   },
   {
    "id": "e401781aa1bf477985a79072d2810787",
    "time": "2021-01-25T23:11:45.815Z",
    "type": "completion"
   },
   {
    "code": "df06",
    "id": "c2a7f6b1700e421eb24bed38a2790309",
    "idx": 4,
    "time": "2021-01-25T23:11:55.211Z",
    "type": "execution"
   },
   {
    "id": "c2a7f6b1700e421eb24bed38a2790309",
    "time": "2021-01-25T23:11:55.329Z",
    "type": "completion"
   },
   {
    "code": "df06.columns",
    "id": "c2a7f6b1700e421eb24bed38a2790309",
    "idx": 4,
    "time": "2021-01-25T23:12:04.988Z",
    "type": "execution"
   },
   {
    "id": "c2a7f6b1700e421eb24bed38a2790309",
    "time": "2021-01-25T23:12:05.080Z",
    "type": "completion"
   },
   {
    "code": "df06",
    "id": "c2a7f6b1700e421eb24bed38a2790309",
    "idx": 4,
    "time": "2021-01-25T23:12:16.533Z",
    "type": "execution"
   },
   {
    "id": "c2a7f6b1700e421eb24bed38a2790309",
    "time": "2021-01-25T23:12:16.640Z",
    "type": "completion"
   },
   {
    "code": "df06['The car brand is similar to']",
    "id": "c2a7f6b1700e421eb24bed38a2790309",
    "idx": 4,
    "time": "2021-01-25T23:14:58.375Z",
    "type": "execution"
   },
   {
    "id": "c2a7f6b1700e421eb24bed38a2790309",
    "time": "2021-01-25T23:14:58.514Z",
    "type": "completion"
   },
   {
    "code": "df06['The car brand is similar to'].str.contains(\"<|endoftext|>\")",
    "id": "c2a7f6b1700e421eb24bed38a2790309",
    "idx": 4,
    "time": "2021-01-25T23:15:21.538Z",
    "type": "execution"
   },
   {
    "id": "c2a7f6b1700e421eb24bed38a2790309",
    "time": "2021-01-25T23:15:21.630Z",
    "type": "completion"
   },
   {
    "code": "df06['The car brand is similar to'].str.contains(\"<|endoftext|>\").sum()",
    "id": "c2a7f6b1700e421eb24bed38a2790309",
    "idx": 4,
    "time": "2021-01-25T23:15:28.925Z",
    "type": "execution"
   },
   {
    "id": "c2a7f6b1700e421eb24bed38a2790309",
    "time": "2021-01-25T23:15:29.026Z",
    "type": "completion"
   },
   {
    "code": "df06.shape",
    "id": "33e985d4185a4d0fb8ee6990e9536a9f",
    "idx": 5,
    "time": "2021-01-25T23:15:42.072Z",
    "type": "execution"
   },
   {
    "id": "33e985d4185a4d0fb8ee6990e9536a9f",
    "time": "2021-01-25T23:15:42.156Z",
    "type": "completion"
   },
   {
    "code": "df06['The car brand is similar to'].str.contains(\"<|endoftext|>\").sum() / df06.shape[0]",
    "id": "c2a7f6b1700e421eb24bed38a2790309",
    "idx": 4,
    "time": "2021-01-25T23:15:50.480Z",
    "type": "execution"
   },
   {
    "id": "c2a7f6b1700e421eb24bed38a2790309",
    "time": "2021-01-25T23:15:50.560Z",
    "type": "completion"
   },
   {
    "code": "df07.shape",
    "id": "33e985d4185a4d0fb8ee6990e9536a9f",
    "idx": 5,
    "time": "2021-01-25T23:15:57.443Z",
    "type": "execution"
   },
   {
    "id": "33e985d4185a4d0fb8ee6990e9536a9f",
    "time": "2021-01-25T23:15:57.518Z",
    "type": "completion"
   },
   {
    "code": "df08.shape",
    "id": "33e985d4185a4d0fb8ee6990e9536a9f",
    "idx": 5,
    "time": "2021-01-25T23:16:05.607Z",
    "type": "execution"
   },
   {
    "id": "33e985d4185a4d0fb8ee6990e9536a9f",
    "time": "2021-01-25T23:16:05.707Z",
    "type": "completion"
   },
   {
    "code": "df08",
    "id": "33e985d4185a4d0fb8ee6990e9536a9f",
    "idx": 5,
    "time": "2021-01-25T23:16:11.751Z",
    "type": "execution"
   },
   {
    "id": "33e985d4185a4d0fb8ee6990e9536a9f",
    "time": "2021-01-25T23:16:11.923Z",
    "type": "completion"
   },
   {
    "code": "df07['The car brand is similar to'].str.contains(\"<|endoftext|>\").sum() / df07.shape[0]",
    "id": "33e985d4185a4d0fb8ee6990e9536a9f",
    "idx": 5,
    "time": "2021-01-25T23:16:33.144Z",
    "type": "execution"
   },
   {
    "id": "33e985d4185a4d0fb8ee6990e9536a9f",
    "time": "2021-01-25T23:16:33.226Z",
    "type": "completion"
   },
   {
    "code": "df08['The car brand is similar to'].str.contains(\"<|endoftext|>\").sum() / df08.shape[0]",
    "id": "7fcea079599c449291ea795948e7abd2",
    "idx": 6,
    "time": "2021-01-25T23:16:41.617Z",
    "type": "execution"
   },
   {
    "id": "7fcea079599c449291ea795948e7abd2",
    "time": "2021-01-25T23:16:41.706Z",
    "type": "completion"
   },
   {
    "code": "df09['The car brand is similar to'].str.contains(\"<|endoftext|>\").sum() / df09.shape[0]",
    "id": "d22400daa9e548b283bd38c1a38a48e3",
    "idx": 7,
    "time": "2021-01-25T23:16:50.255Z",
    "type": "execution"
   },
   {
    "id": "d22400daa9e548b283bd38c1a38a48e3",
    "time": "2021-01-25T23:16:50.347Z",
    "type": "completion"
   },
   {
    "code": "df10['The car brand is similar to'].str.contains(\"<|endoftext|>\").sum() / df10.shape[0]",
    "id": "e29650154a5a46808b0bf01f5a60600d",
    "idx": 8,
    "time": "2021-01-25T23:16:58.610Z",
    "type": "execution"
   },
   {
    "id": "e29650154a5a46808b0bf01f5a60600d",
    "time": "2021-01-25T23:16:58.694Z",
    "type": "completion"
   },
   {
    "code": "df11['The car brand is similar to'].str.contains(\"<|endoftext|>\").sum() / df11.shape[0]",
    "id": "93b660b89c1d4e638edc3717ed528b80",
    "idx": 9,
    "time": "2021-01-25T23:17:07.528Z",
    "type": "execution"
   },
   {
    "id": "93b660b89c1d4e638edc3717ed528b80",
    "time": "2021-01-25T23:17:07.612Z",
    "type": "completion"
   },
   {
    "code": "print(\"Proportion of texts containing '<|endoftext|>'\")",
    "id": "a961c06c69ad4e3c812cd67f5a835238",
    "idx": 3,
    "time": "2021-01-25T23:18:34.972Z",
    "type": "execution"
   },
   {
    "id": "a961c06c69ad4e3c812cd67f5a835238",
    "time": "2021-01-25T23:18:35.064Z",
    "type": "completion"
   },
   {
    "code": "print(\"Proportion of texts containing '<|endoftext|>'\")\nprint(\"Temperature 0.6: \" + str(df06['The car brand is similar to'].str.contains(\"<|endoftext|>\").sum() / df06.shape[0]))",
    "id": "a961c06c69ad4e3c812cd67f5a835238",
    "idx": 3,
    "time": "2021-01-25T23:19:05.458Z",
    "type": "execution"
   },
   {
    "id": "a961c06c69ad4e3c812cd67f5a835238",
    "time": "2021-01-25T23:19:05.549Z",
    "type": "completion"
   },
   {
    "code": "df11['The car brand is similar to'].str.contains(\"<|endoftext|>\").sum() / df11.shape[0]",
    "id": "93b660b89c1d4e638edc3717ed528b80",
    "idx": 9,
    "time": "2021-01-25T23:33:03.474Z",
    "type": "execution"
   },
   {
    "id": "93b660b89c1d4e638edc3717ed528b80",
    "time": "2021-01-25T23:33:03.561Z",
    "type": "completion"
   }
  ],
  "kernelspec": {
   "display_name": "Python 3",
   "language": "python",
   "name": "python3"
  },
  "language_info": {
   "codemirror_mode": {
    "name": "ipython",
    "version": 3
   },
   "file_extension": ".py",
   "mimetype": "text/x-python",
   "name": "python",
   "nbconvert_exporter": "python",
   "pygments_lexer": "ipython3",
   "version": "3.8.6"
  }
 },
 "nbformat": 4,
 "nbformat_minor": 4
}
