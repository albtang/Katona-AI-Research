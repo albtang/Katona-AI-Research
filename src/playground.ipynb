{
 "cells": [
  {
   "cell_type": "code",
   "execution_count": null,
   "metadata": {},
   "outputs": [],
   "source": [
    "def process_responses(all_text,keywords):\n",
    "    frqs={}\n",
    "    frq=defaultdict(int)\n",
    "    text_list=all_text[text_list]\n",
    "    for words in keywords:\n",
    "        for word in words:\n",
    "            regex_string = '[^A-z]' + word + '[^A-z]'\n",
    "            frq[words[0]]+=len([text for text in text_list if [re.findall('[^A-z]' + word + '[^A-z]', text) for word in words]])\n",
    "        frqs[tmp]=frq\n",
    "    return frqs\n",
    "\n",
    "aliases = [['Jeep', 'Fiat', 'Chrysler'],\n",
    "        ['Subaru', 'Bugeye', 'Scooby'],\n",
    "        ['Dodge', 'Polara'],\n",
    "        ['GMC'],\n",
    "        ['Tesla'],\n",
    "        ['Buick'],\n",
    "        ['Toyota', 'Yota', 'Camry'],\n",
    "        ['Honda', 'Accord'],\n",
    "        ['Nissan', 'Infiniti'],\n",
    "        ['Chevrolet', 'Chevy'],\n",
    "        ['Hyundai', 'Tiburon', 'HYU', 'Kia'],\n",
    "        ['Ram'],\n",
    "        ['Mazda', 'Matsuda'],\n",
    "        ['Renault', 'Dacia'],\n",
    "        ['Lamborghini', 'Lambo', 'Aventadora', 'Lamborgini'],\n",
    "        ['Mercedes-Benz', 'Merc', 'Benz', 'Mercedes'],\n",
    "        ['BMW', 'Beemer', 'Bimmer', 'Beamer'],\n",
    "        ['Ford', 'Thunderbird', 'Mustang'],\n",
    "        ['Porsche', 'Porche', 'Porce'],\n",
    "        ['Audi', '4 Rings'],\n",
    "        ['Volkswagen', 'VW', 'Volkswagon'],\n",
    "        ['Ferrari', 'Prancing Horse', 'Scuderia'],\n",
    "        ['MG', 'M.G.', 'Morris Garages', 'M.G. Car Company'],\n",
    "        ['Lexus', 'Lex', 'GX', 'ES 250'],\n",
    "        ['Infiniti'],\n",
    "        ['Volvo']]"
   ]
  },
  {
   "cell_type": "code",
   "execution_count": 1,
   "metadata": {},
   "outputs": [],
   "source": [
    "import pandas as pd\n",
    "import networkx as nx"
   ]
  },
  {
   "cell_type": "code",
   "execution_count": 2,
   "metadata": {},
   "outputs": [],
   "source": [
    "df = pd.read_csv(\"car_data/carr-Feb-18-6625.csv\")"
   ]
  },
  {
   "cell_type": "code",
   "execution_count": 3,
   "metadata": {},
   "outputs": [
    {
     "data": {
      "text/html": [
       "<div>\n",
       "<style scoped>\n",
       "    .dataframe tbody tr th:only-of-type {\n",
       "        vertical-align: middle;\n",
       "    }\n",
       "\n",
       "    .dataframe tbody tr th {\n",
       "        vertical-align: top;\n",
       "    }\n",
       "\n",
       "    .dataframe thead th {\n",
       "        text-align: right;\n",
       "    }\n",
       "</style>\n",
       "<table border=\"1\" class=\"dataframe\">\n",
       "  <thead>\n",
       "    <tr style=\"text-align: right;\">\n",
       "      <th></th>\n",
       "      <th>Unnamed: 0</th>\n",
       "      <th>brand1</th>\n",
       "      <th>brand2</th>\n",
       "      <th>frq</th>\n",
       "    </tr>\n",
       "  </thead>\n",
       "  <tbody>\n",
       "    <tr>\n",
       "      <th>0</th>\n",
       "      <td>1</td>\n",
       "      <td>Jeep</td>\n",
       "      <td>Subaru</td>\n",
       "      <td>13</td>\n",
       "    </tr>\n",
       "    <tr>\n",
       "      <th>1</th>\n",
       "      <td>2</td>\n",
       "      <td>Jeep</td>\n",
       "      <td>Dodge</td>\n",
       "      <td>270</td>\n",
       "    </tr>\n",
       "    <tr>\n",
       "      <th>2</th>\n",
       "      <td>3</td>\n",
       "      <td>Jeep</td>\n",
       "      <td>Tesla</td>\n",
       "      <td>42</td>\n",
       "    </tr>\n",
       "    <tr>\n",
       "      <th>3</th>\n",
       "      <td>4</td>\n",
       "      <td>Jeep</td>\n",
       "      <td>Toyota</td>\n",
       "      <td>352</td>\n",
       "    </tr>\n",
       "    <tr>\n",
       "      <th>4</th>\n",
       "      <td>5</td>\n",
       "      <td>Jeep</td>\n",
       "      <td>Honda</td>\n",
       "      <td>177</td>\n",
       "    </tr>\n",
       "    <tr>\n",
       "      <th>...</th>\n",
       "      <td>...</td>\n",
       "      <td>...</td>\n",
       "      <td>...</td>\n",
       "      <td>...</td>\n",
       "    </tr>\n",
       "    <tr>\n",
       "      <th>415</th>\n",
       "      <td>416</td>\n",
       "      <td>Volvo</td>\n",
       "      <td>Porsche</td>\n",
       "      <td>90</td>\n",
       "    </tr>\n",
       "    <tr>\n",
       "      <th>416</th>\n",
       "      <td>417</td>\n",
       "      <td>Volvo</td>\n",
       "      <td>Audi</td>\n",
       "      <td>182</td>\n",
       "    </tr>\n",
       "    <tr>\n",
       "      <th>417</th>\n",
       "      <td>418</td>\n",
       "      <td>Volvo</td>\n",
       "      <td>Volkswagen</td>\n",
       "      <td>277</td>\n",
       "    </tr>\n",
       "    <tr>\n",
       "      <th>418</th>\n",
       "      <td>419</td>\n",
       "      <td>Volvo</td>\n",
       "      <td>Ferrari</td>\n",
       "      <td>13</td>\n",
       "    </tr>\n",
       "    <tr>\n",
       "      <th>419</th>\n",
       "      <td>420</td>\n",
       "      <td>Volvo</td>\n",
       "      <td>Lexus</td>\n",
       "      <td>20</td>\n",
       "    </tr>\n",
       "  </tbody>\n",
       "</table>\n",
       "<p>420 rows × 4 columns</p>\n",
       "</div>"
      ],
      "text/plain": [
       "     Unnamed: 0 brand1      brand2  frq\n",
       "0             1   Jeep      Subaru   13\n",
       "1             2   Jeep       Dodge  270\n",
       "2             3   Jeep       Tesla   42\n",
       "3             4   Jeep      Toyota  352\n",
       "4             5   Jeep       Honda  177\n",
       "..          ...    ...         ...  ...\n",
       "415         416  Volvo     Porsche   90\n",
       "416         417  Volvo        Audi  182\n",
       "417         418  Volvo  Volkswagen  277\n",
       "418         419  Volvo     Ferrari   13\n",
       "419         420  Volvo       Lexus   20\n",
       "\n",
       "[420 rows x 4 columns]"
      ]
     },
     "execution_count": 3,
     "metadata": {},
     "output_type": "execute_result"
    }
   ],
   "source": [
    "df"
   ]
  },
  {
   "cell_type": "code",
   "execution_count": null,
   "metadata": {},
   "outputs": [],
   "source": []
  },
  {
   "cell_type": "code",
   "execution_count": 20,
   "metadata": {},
   "outputs": [
    {
     "name": "stdout",
     "output_type": "stream",
     "text": [
      "Proportion of texts containing '<|endoftext|>'\n",
      "Temperature 0.6: 0.41\n"
     ]
    }
   ],
   "source": [
    "print(\"Proportion of texts containing '<|endoftext|>'\")\n",
    "print(\"Temperature 0.6: \" + str(df06['The car brand is similar to'].str.contains(\"<|endoftext|>\").sum() / df06.shape[0]))"
   ]
  },
  {
   "cell_type": "code",
   "execution_count": 10,
   "metadata": {},
   "outputs": [
    {
     "data": {
      "text/plain": [
       "0.41"
      ]
     },
     "execution_count": 10,
     "metadata": {},
     "output_type": "execute_result"
    }
   ],
   "source": [
    "df06['The car brand is similar to'].str.contains(\"<|endoftext|>\").sum() / df06.shape[0]"
   ]
  },
  {
   "cell_type": "code",
   "execution_count": 14,
   "metadata": {},
   "outputs": [
    {
     "data": {
      "text/plain": [
       "0.44"
      ]
     },
     "execution_count": 14,
     "metadata": {},
     "output_type": "execute_result"
    }
   ],
   "source": [
    "df07['The car brand is similar to'].str.contains(\"<|endoftext|>\").sum() / df07.shape[0]"
   ]
  },
  {
   "cell_type": "code",
   "execution_count": 15,
   "metadata": {},
   "outputs": [
    {
     "data": {
      "text/plain": [
       "0.5"
      ]
     },
     "execution_count": 15,
     "metadata": {},
     "output_type": "execute_result"
    }
   ],
   "source": [
    "df08['The car brand is similar to'].str.contains(\"<|endoftext|>\").sum() / df08.shape[0]"
   ]
  },
  {
   "cell_type": "code",
   "execution_count": 16,
   "metadata": {},
   "outputs": [
    {
     "data": {
      "text/plain": [
       "0.4166666666666667"
      ]
     },
     "execution_count": 16,
     "metadata": {},
     "output_type": "execute_result"
    }
   ],
   "source": [
    "df09['The car brand is similar to'].str.contains(\"<|endoftext|>\").sum() / df09.shape[0]"
   ]
  },
  {
   "cell_type": "code",
   "execution_count": 17,
   "metadata": {},
   "outputs": [
    {
     "data": {
      "text/plain": [
       "0.34"
      ]
     },
     "execution_count": 17,
     "metadata": {},
     "output_type": "execute_result"
    }
   ],
   "source": [
    "df10['The car brand is similar to'].str.contains(\"<|endoftext|>\").sum() / df10.shape[0]"
   ]
  },
  {
   "cell_type": "code",
   "execution_count": 21,
   "metadata": {},
   "outputs": [
    {
     "data": {
      "text/plain": [
       "0.3"
      ]
     },
     "execution_count": 21,
     "metadata": {},
     "output_type": "execute_result"
    }
   ],
   "source": [
    "df11['The car brand is similar to'].str.contains(\"<|endoftext|>\").sum() / df11.shape[0]"
   ]
  },
  {
   "cell_type": "code",
   "execution_count": 24,
   "metadata": {},
   "outputs": [
    {
     "data": {
      "text/plain": [
       "100"
      ]
     },
     "execution_count": 24,
     "metadata": {},
     "output_type": "execute_result"
    }
   ],
   "source": [
    "df10.shape[0]"
   ]
  },
  {
   "cell_type": "code",
   "execution_count": 3,
   "metadata": {},
   "outputs": [],
   "source": [
    "df05 = pd.read_csv(\"data/raw_text/b Feb6 t05 1000.csv\")\n",
    "df06 = pd.read_csv(\"data/raw_text/b Jan26 t06 1000.csv\")\n",
    "df15 = pd.read_csv(\"data/raw_text/b Jan26 t15 1000.csv\")\n",
    "df20 = pd.read_csv(\"data/raw_text/b Jan26 t20 1000.csv\")\n",
    "df10k40 = pd.read_csv(\"data/raw_text/b Jan28 t10 topk40 1000.csv\")"
   ]
  },
  {
   "cell_type": "code",
   "execution_count": 5,
   "metadata": {},
   "outputs": [
    {
     "name": "stdout",
     "output_type": "stream",
     "text": [
      "Proportions of the generated text with the following hyperparameter that contains <|endoftext|>\n",
      "Temperature 0.5:  0.366\n",
      "Temperature 0.6:  0.489\n",
      "Temperature 1.5:  0.261\n",
      "Temperature 2.0:  0.258\n",
      "Temperature 1.0, top_k 40:  0.492\n"
     ]
    }
   ],
   "source": [
    "print(\"Proportions of the generated text with the following hyperparameter that contains <|endoftext|>\")\n",
    "print(\"Temperature 0.5: \", df05['The car brand is similar to'].str.contains(\"<|endoftext|>\").sum() / df05.shape[0])\n",
    "print(\"Temperature 0.6: \", df06['The car brand is similar to'].str.contains(\"<|endoftext|>\").sum() / df06.shape[0])\n",
    "print(\"Temperature 1.5: \", df15['The car brand is similar to'].str.contains(\"<|endoftext|>\").sum() / df15.shape[0])\n",
    "print(\"Temperature 2.0: \", df20['The car brand is similar to'].str.contains(\"<|endoftext|>\").sum() / df20.shape[0])\n",
    "print(\"Temperature 1.0, top_k 40: \", df10k40['The car brand is similar to'].str.contains(\"<|endoftext|>\").sum() / df10k40.shape[0])"
   ]
  },
  {
   "cell_type": "code",
   "execution_count": null,
   "metadata": {},
   "outputs": [],
   "source": []
  }
 ],
 "metadata": {
  "history": [
   {
    "code": "import pandas as pd",
    "id": "4e81fddc54764a5fb17965300035fec0",
    "idx": 1,
    "time": "2021-01-25T22:39:07.744Z",
    "type": "execution"
   },
   {
    "id": "4e81fddc54764a5fb17965300035fec0",
    "time": "2021-01-25T22:39:08.177Z",
    "type": "completion"
   },
   {
    "code": "df06 = pd.read_csv(\"data/raw_text/b Dec21 t06 100.csv\")\ndf07 = pd.read_csv(\"data/raw_text/b Dec21 t07 100.csv\")\ndf08 = pd.read_csv(\"data/raw_text/Dec22 t08 100.csv\")\ndf09 = pd.read_csv(\"data/raw_text/Dec22 t09 100.csv\")\ndf10 = pd.read_csv(\"data/raw_text/b Jan5 t1 100.csv\")\ndf11 = pd.read_csv(\"data/raw_text/b Jan5 t11 100.csv\")",
    "id": "e401781aa1bf477985a79072d2810787",
    "idx": 2,
    "time": "2021-01-25T23:11:45.591Z",
    "type": "execution"
   },
   {
    "id": "e401781aa1bf477985a79072d2810787",
    "time": "2021-01-25T23:11:45.815Z",
    "type": "completion"
   },
   {
    "code": "df06",
    "id": "c2a7f6b1700e421eb24bed38a2790309",
    "idx": 4,
    "time": "2021-01-25T23:11:55.211Z",
    "type": "execution"
   },
   {
    "id": "c2a7f6b1700e421eb24bed38a2790309",
    "time": "2021-01-25T23:11:55.329Z",
    "type": "completion"
   },
   {
    "code": "df06.columns",
    "id": "c2a7f6b1700e421eb24bed38a2790309",
    "idx": 4,
    "time": "2021-01-25T23:12:04.988Z",
    "type": "execution"
   },
   {
    "id": "c2a7f6b1700e421eb24bed38a2790309",
    "time": "2021-01-25T23:12:05.080Z",
    "type": "completion"
   },
   {
    "code": "df06",
    "id": "c2a7f6b1700e421eb24bed38a2790309",
    "idx": 4,
    "time": "2021-01-25T23:12:16.533Z",
    "type": "execution"
   },
   {
    "id": "c2a7f6b1700e421eb24bed38a2790309",
    "time": "2021-01-25T23:12:16.640Z",
    "type": "completion"
   },
   {
    "code": "df06['The car brand is similar to']",
    "id": "c2a7f6b1700e421eb24bed38a2790309",
    "idx": 4,
    "time": "2021-01-25T23:14:58.375Z",
    "type": "execution"
   },
   {
    "id": "c2a7f6b1700e421eb24bed38a2790309",
    "time": "2021-01-25T23:14:58.514Z",
    "type": "completion"
   },
   {
    "code": "df06['The car brand is similar to'].str.contains(\"<|endoftext|>\")",
    "id": "c2a7f6b1700e421eb24bed38a2790309",
    "idx": 4,
    "time": "2021-01-25T23:15:21.538Z",
    "type": "execution"
   },
   {
    "id": "c2a7f6b1700e421eb24bed38a2790309",
    "time": "2021-01-25T23:15:21.630Z",
    "type": "completion"
   },
   {
    "code": "df06['The car brand is similar to'].str.contains(\"<|endoftext|>\").sum()",
    "id": "c2a7f6b1700e421eb24bed38a2790309",
    "idx": 4,
    "time": "2021-01-25T23:15:28.925Z",
    "type": "execution"
   },
   {
    "id": "c2a7f6b1700e421eb24bed38a2790309",
    "time": "2021-01-25T23:15:29.026Z",
    "type": "completion"
   },
   {
    "code": "df06.shape",
    "id": "33e985d4185a4d0fb8ee6990e9536a9f",
    "idx": 5,
    "time": "2021-01-25T23:15:42.072Z",
    "type": "execution"
   },
   {
    "id": "33e985d4185a4d0fb8ee6990e9536a9f",
    "time": "2021-01-25T23:15:42.156Z",
    "type": "completion"
   },
   {
    "code": "df06['The car brand is similar to'].str.contains(\"<|endoftext|>\").sum() / df06.shape[0]",
    "id": "c2a7f6b1700e421eb24bed38a2790309",
    "idx": 4,
    "time": "2021-01-25T23:15:50.480Z",
    "type": "execution"
   },
   {
    "id": "c2a7f6b1700e421eb24bed38a2790309",
    "time": "2021-01-25T23:15:50.560Z",
    "type": "completion"
   },
   {
    "code": "df07.shape",
    "id": "33e985d4185a4d0fb8ee6990e9536a9f",
    "idx": 5,
    "time": "2021-01-25T23:15:57.443Z",
    "type": "execution"
   },
   {
    "id": "33e985d4185a4d0fb8ee6990e9536a9f",
    "time": "2021-01-25T23:15:57.518Z",
    "type": "completion"
   },
   {
    "code": "df08.shape",
    "id": "33e985d4185a4d0fb8ee6990e9536a9f",
    "idx": 5,
    "time": "2021-01-25T23:16:05.607Z",
    "type": "execution"
   },
   {
    "id": "33e985d4185a4d0fb8ee6990e9536a9f",
    "time": "2021-01-25T23:16:05.707Z",
    "type": "completion"
   },
   {
    "code": "df08",
    "id": "33e985d4185a4d0fb8ee6990e9536a9f",
    "idx": 5,
    "time": "2021-01-25T23:16:11.751Z",
    "type": "execution"
   },
   {
    "id": "33e985d4185a4d0fb8ee6990e9536a9f",
    "time": "2021-01-25T23:16:11.923Z",
    "type": "completion"
   },
   {
    "code": "df07['The car brand is similar to'].str.contains(\"<|endoftext|>\").sum() / df07.shape[0]",
    "id": "33e985d4185a4d0fb8ee6990e9536a9f",
    "idx": 5,
    "time": "2021-01-25T23:16:33.144Z",
    "type": "execution"
   },
   {
    "id": "33e985d4185a4d0fb8ee6990e9536a9f",
    "time": "2021-01-25T23:16:33.226Z",
    "type": "completion"
   },
   {
    "code": "df08['The car brand is similar to'].str.contains(\"<|endoftext|>\").sum() / df08.shape[0]",
    "id": "7fcea079599c449291ea795948e7abd2",
    "idx": 6,
    "time": "2021-01-25T23:16:41.617Z",
    "type": "execution"
   },
   {
    "id": "7fcea079599c449291ea795948e7abd2",
    "time": "2021-01-25T23:16:41.706Z",
    "type": "completion"
   },
   {
    "code": "df09['The car brand is similar to'].str.contains(\"<|endoftext|>\").sum() / df09.shape[0]",
    "id": "d22400daa9e548b283bd38c1a38a48e3",
    "idx": 7,
    "time": "2021-01-25T23:16:50.255Z",
    "type": "execution"
   },
   {
    "id": "d22400daa9e548b283bd38c1a38a48e3",
    "time": "2021-01-25T23:16:50.347Z",
    "type": "completion"
   },
   {
    "code": "df10['The car brand is similar to'].str.contains(\"<|endoftext|>\").sum() / df10.shape[0]",
    "id": "e29650154a5a46808b0bf01f5a60600d",
    "idx": 8,
    "time": "2021-01-25T23:16:58.610Z",
    "type": "execution"
   },
   {
    "id": "e29650154a5a46808b0bf01f5a60600d",
    "time": "2021-01-25T23:16:58.694Z",
    "type": "completion"
   },
   {
    "code": "df11['The car brand is similar to'].str.contains(\"<|endoftext|>\").sum() / df11.shape[0]",
    "id": "93b660b89c1d4e638edc3717ed528b80",
    "idx": 9,
    "time": "2021-01-25T23:17:07.528Z",
    "type": "execution"
   },
   {
    "id": "93b660b89c1d4e638edc3717ed528b80",
    "time": "2021-01-25T23:17:07.612Z",
    "type": "completion"
   },
   {
    "code": "print(\"Proportion of texts containing '<|endoftext|>'\")",
    "id": "a961c06c69ad4e3c812cd67f5a835238",
    "idx": 3,
    "time": "2021-01-25T23:18:34.972Z",
    "type": "execution"
   },
   {
    "id": "a961c06c69ad4e3c812cd67f5a835238",
    "time": "2021-01-25T23:18:35.064Z",
    "type": "completion"
   },
   {
    "code": "print(\"Proportion of texts containing '<|endoftext|>'\")\nprint(\"Temperature 0.6: \" + str(df06['The car brand is similar to'].str.contains(\"<|endoftext|>\").sum() / df06.shape[0]))",
    "id": "a961c06c69ad4e3c812cd67f5a835238",
    "idx": 3,
    "time": "2021-01-25T23:19:05.458Z",
    "type": "execution"
   },
   {
    "id": "a961c06c69ad4e3c812cd67f5a835238",
    "time": "2021-01-25T23:19:05.549Z",
    "type": "completion"
   },
   {
    "code": "df11['The car brand is similar to'].str.contains(\"<|endoftext|>\").sum() / df11.shape[0]",
    "id": "93b660b89c1d4e638edc3717ed528b80",
    "idx": 9,
    "time": "2021-01-25T23:33:03.474Z",
    "type": "execution"
   },
   {
    "id": "93b660b89c1d4e638edc3717ed528b80",
    "time": "2021-01-25T23:33:03.561Z",
    "type": "completion"
   },
   {
    "code": "df08.shape[0]",
    "id": "6182fba1ad8a401e8653b933dc85429b",
    "idx": 10,
    "time": "2021-01-25T23:59:23.718Z",
    "type": "execution"
   },
   {
    "id": "6182fba1ad8a401e8653b933dc85429b",
    "time": "2021-01-25T23:59:23.858Z",
    "type": "completion"
   },
   {
    "code": "df09.shape[0]",
    "id": "6182fba1ad8a401e8653b933dc85429b",
    "idx": 10,
    "time": "2021-01-25T23:59:27.962Z",
    "type": "execution"
   },
   {
    "id": "6182fba1ad8a401e8653b933dc85429b",
    "time": "2021-01-25T23:59:28.048Z",
    "type": "completion"
   },
   {
    "code": "df10.shape[0]",
    "id": "6182fba1ad8a401e8653b933dc85429b",
    "idx": 10,
    "time": "2021-01-25T23:59:36.690Z",
    "type": "execution"
   },
   {
    "id": "6182fba1ad8a401e8653b933dc85429b",
    "time": "2021-01-25T23:59:36.780Z",
    "type": "completion"
   },
   {
    "code": "import pandas as pd",
    "id": "b6d281191d69490caffd662d0a25a2a2",
    "idx": 1,
    "time": "2021-01-28T19:16:14.331Z",
    "type": "execution"
   },
   {
    "id": "b6d281191d69490caffd662d0a25a2a2",
    "time": "2021-01-28T19:16:14.744Z",
    "type": "completion"
   },
   {
    "code": "import pandas as pd",
    "id": "9486736f8b9149089e4afdbccd38939c",
    "idx": 1,
    "time": "2021-02-09T00:09:26.822Z",
    "type": "execution"
   },
   {
    "id": "9486736f8b9149089e4afdbccd38939c",
    "time": "2021-02-09T00:09:27.397Z",
    "type": "completion"
   },
   {
    "code": "df05 = pd.read_csv(\"b Feb6 t05 1000.csv\")\ndf06 = pd.read_csv(\"b Jan26 t06 1000.csv\")\ndf15 = pd.read_csv(\"b Jan26 t15 1000.csv\")\ndf20 = pd.read_csv(\"b Jan26 t20 1000.csv\")\ndf10k40 = pd.read_csv(\"b Jan28 t10 topk40 1000.csv\")",
    "id": "3075928ee9364b34afa0ce18eb1a17d4",
    "idx": 12,
    "time": "2021-02-09T00:15:26.069Z",
    "type": "execution"
   },
   {
    "id": "3075928ee9364b34afa0ce18eb1a17d4",
    "time": "2021-02-09T00:15:26.328Z",
    "type": "completion"
   },
   {
    "code": "df05 = pd.read_csv(\"data/raw_text/b Feb6 t05 1000.csv\")\ndf06 = pd.read_csv(\"data/raw_text/b Jan26 t06 1000.csv\")\ndf15 = pd.read_csv(\"data/raw_text/b Jan26 t15 1000.csv\")\ndf20 = pd.read_csv(\"data/raw_text/b Jan26 t20 1000.csv\")\ndf10k40 = pd.read_csv(\"data/raw_text/b Jan28 t10 topk40 1000.csv\")",
    "id": "3075928ee9364b34afa0ce18eb1a17d4",
    "idx": 12,
    "time": "2021-02-09T00:15:51.998Z",
    "type": "execution"
   },
   {
    "id": "3075928ee9364b34afa0ce18eb1a17d4",
    "time": "2021-02-09T00:15:52.559Z",
    "type": "completion"
   },
   {
    "code": "print(\"Temperature 0.5: \", df05['The car brand is similar to'].str.contains(\"<|endoftext|>\").sum() / df05.shape[0])\nprint(\"Temperature 0.6: \", df06['The car brand is similar to'].str.contains(\"<|endoftext|>\").sum() / df06.shape[0])\nprint(\"Temperature 1.5: \", df15['The car brand is similar to'].str.contains(\"<|endoftext|>\").sum() / df15.shape[0])\nprint(\"Temperature 2.0: \", df20['The car brand is similar to'].str.contains(\"<|endoftext|>\").sum() / df20.shape[0])\nprint(\"Temperature 1.0, top_k 40: \", df10k40['The car brand is similar to'].str.contains(\"<|endoftext|>\").sum() / df10k40.shape[0])",
    "id": "0311776ac0f443ac822ce4ba1d658a56",
    "idx": 13,
    "time": "2021-02-09T00:17:45.410Z",
    "type": "execution"
   },
   {
    "id": "0311776ac0f443ac822ce4ba1d658a56",
    "time": "2021-02-09T00:17:45.635Z",
    "type": "completion"
   },
   {
    "code": "print(\"Proportions of the generated text with the following hyperparameter that contains <|endoftext|>\")\nprint(\"Temperature 0.5: \", df05['The car brand is similar to'].str.contains(\"<|endoftext|>\").sum() / df05.shape[0])\nprint(\"Temperature 0.6: \", df06['The car brand is similar to'].str.contains(\"<|endoftext|>\").sum() / df06.shape[0])\nprint(\"Temperature 1.5: \", df15['The car brand is similar to'].str.contains(\"<|endoftext|>\").sum() / df15.shape[0])\nprint(\"Temperature 2.0: \", df20['The car brand is similar to'].str.contains(\"<|endoftext|>\").sum() / df20.shape[0])\nprint(\"Temperature 1.0, top_k 40: \", df10k40['The car brand is similar to'].str.contains(\"<|endoftext|>\").sum() / df10k40.shape[0])",
    "id": "0311776ac0f443ac822ce4ba1d658a56",
    "idx": 13,
    "time": "2021-02-09T00:18:32.224Z",
    "type": "execution"
   },
   {
    "id": "0311776ac0f443ac822ce4ba1d658a56",
    "time": "2021-02-09T00:18:32.418Z",
    "type": "completion"
   }
  ],
  "kernelspec": {
   "display_name": "Python 3",
   "language": "python",
   "name": "python3"
  },
  "language_info": {
   "codemirror_mode": {
    "name": "ipython",
    "version": 3
   },
   "file_extension": ".py",
   "mimetype": "text/x-python",
   "name": "python",
   "nbconvert_exporter": "python",
   "pygments_lexer": "ipython3",
   "version": "3.8.6"
  }
 },
 "nbformat": 4,
 "nbformat_minor": 4
}
