{
 "cells": [
  {
   "cell_type": "code",
   "execution_count": 1,
   "metadata": {},
   "outputs": [],
   "source": [
    "import pandas as pd"
   ]
  },
  {
   "cell_type": "code",
   "execution_count": 2,
   "metadata": {},
   "outputs": [],
   "source": [
    "df1 = pd.read_csv(\"freqs/b Feb24 300 1.csv\").set_index(\"Unnamed: 0\")\n",
    "df2 = pd.read_csv(\"freqs/b Feb24 300 2.csv\").set_index(\"Unnamed: 0\")\n",
    "df3 = pd.read_csv(\"freqs/b Feb24 300 3.csv\").set_index(\"Unnamed: 0\")\n",
    "df4 = pd.read_csv(\"freqs/b Feb24 300 4.csv\").set_index(\"Unnamed: 0\")\n",
    "df5 = pd.read_csv(\"freqs/b Feb24 300 5.csv\").set_index(\"Unnamed: 0\")\n",
    "df6 = pd.read_csv(\"freqs/b Feb24 300 6.csv\").set_index(\"Unnamed: 0\")\n",
    "df7 = pd.read_csv(\"freqs/b Feb24 300 7.csv\").set_index(\"Unnamed: 0\")\n",
    "df8 = pd.read_csv(\"freqs/b Feb24 300 8.csv\").set_index(\"Unnamed: 0\")\n",
    "df9 = pd.read_csv(\"freqs/b Feb24 300 9.csv\").set_index(\"Unnamed: 0\")\n",
    "df10 = pd.read_csv(\"freqs/b Feb24 300 10.csv\").set_index(\"Unnamed: 0\")\n",
    "df11 = pd.read_csv(\"freqs/b Feb24 300 11.csv\").set_index(\"Unnamed: 0\")\n",
    "df12 = pd.read_csv(\"freqs/b Feb24 300 12.csv\").set_index(\"Unnamed: 0\")\n",
    "df13 = pd.read_csv(\"freqs/b Feb24 300 13.csv\").set_index(\"Unnamed: 0\")\n",
    "df14 = pd.read_csv(\"freqs/b Feb24 300 14.csv\").set_index(\"Unnamed: 0\")\n",
    "df15 = pd.read_csv(\"freqs/b Feb24 300 15.csv\").set_index(\"Unnamed: 0\")"
   ]
  },
  {
   "cell_type": "code",
   "execution_count": 3,
   "metadata": {},
   "outputs": [
    {
     "data": {
      "text/html": [
       "<div>\n",
       "<style scoped>\n",
       "    .dataframe tbody tr th:only-of-type {\n",
       "        vertical-align: middle;\n",
       "    }\n",
       "\n",
       "    .dataframe tbody tr th {\n",
       "        vertical-align: top;\n",
       "    }\n",
       "\n",
       "    .dataframe thead th {\n",
       "        text-align: right;\n",
       "    }\n",
       "</style>\n",
       "<table border=\"1\" class=\"dataframe\">\n",
       "  <thead>\n",
       "    <tr style=\"text-align: right;\">\n",
       "      <th></th>\n",
       "      <th>Mercedes-Benz</th>\n",
       "    </tr>\n",
       "    <tr>\n",
       "      <th>Unnamed: 0</th>\n",
       "      <th></th>\n",
       "    </tr>\n",
       "  </thead>\n",
       "  <tbody>\n",
       "    <tr>\n",
       "      <th>Female</th>\n",
       "      <td>1</td>\n",
       "    </tr>\n",
       "    <tr>\n",
       "      <th>Male</th>\n",
       "      <td>8</td>\n",
       "    </tr>\n",
       "  </tbody>\n",
       "</table>\n",
       "</div>"
      ],
      "text/plain": [
       "            Mercedes-Benz\n",
       "Unnamed: 0               \n",
       "Female                  1\n",
       "Male                    8"
      ]
     },
     "execution_count": 3,
     "metadata": {},
     "output_type": "execute_result"
    }
   ],
   "source": [
    "df1"
   ]
  },
  {
   "cell_type": "code",
   "execution_count": 4,
   "metadata": {},
   "outputs": [],
   "source": [
    "joined = df1+df2+df3+df4+df5+df6+df7+df8+df9+df10+df11+df12+df13+df14+df15"
   ]
  },
  {
   "cell_type": "code",
   "execution_count": 5,
   "metadata": {},
   "outputs": [
    {
     "data": {
      "text/html": [
       "<div>\n",
       "<style scoped>\n",
       "    .dataframe tbody tr th:only-of-type {\n",
       "        vertical-align: middle;\n",
       "    }\n",
       "\n",
       "    .dataframe tbody tr th {\n",
       "        vertical-align: top;\n",
       "    }\n",
       "\n",
       "    .dataframe thead th {\n",
       "        text-align: right;\n",
       "    }\n",
       "</style>\n",
       "<table border=\"1\" class=\"dataframe\">\n",
       "  <thead>\n",
       "    <tr style=\"text-align: right;\">\n",
       "      <th></th>\n",
       "      <th>Mercedes-Benz</th>\n",
       "    </tr>\n",
       "    <tr>\n",
       "      <th>Unnamed: 0</th>\n",
       "      <th></th>\n",
       "    </tr>\n",
       "  </thead>\n",
       "  <tbody>\n",
       "    <tr>\n",
       "      <th>Female</th>\n",
       "      <td>18</td>\n",
       "    </tr>\n",
       "    <tr>\n",
       "      <th>Male</th>\n",
       "      <td>122</td>\n",
       "    </tr>\n",
       "  </tbody>\n",
       "</table>\n",
       "</div>"
      ],
      "text/plain": [
       "            Mercedes-Benz\n",
       "Unnamed: 0               \n",
       "Female                 18\n",
       "Male                  122"
      ]
     },
     "execution_count": 5,
     "metadata": {},
     "output_type": "execute_result"
    }
   ],
   "source": [
    "joined"
   ]
  },
  {
   "cell_type": "code",
   "execution_count": 6,
   "metadata": {},
   "outputs": [],
   "source": [
    "joined.to_csv(\"freqs/jb Feb 24 4500.csv\")"
   ]
  },
  {
   "cell_type": "code",
   "execution_count": null,
   "metadata": {},
   "outputs": [],
   "source": []
  }
 ],
 "metadata": {
  "kernelspec": {
   "display_name": "Python 3",
   "language": "python",
   "name": "python3"
  },
  "language_info": {
   "codemirror_mode": {
    "name": "ipython",
    "version": 3
   },
   "file_extension": ".py",
   "mimetype": "text/x-python",
   "name": "python",
   "nbconvert_exporter": "python",
   "pygments_lexer": "ipython3",
   "version": "3.8.6"
  }
 },
 "nbformat": 4,
 "nbformat_minor": 4
}
